{
  "nbformat": 4,
  "nbformat_minor": 0,
  "metadata": {
    "kernelspec": {
      "display_name": "Python 3",
      "language": "python",
      "name": "python3"
    },
    "language_info": {
      "codemirror_mode": {
        "name": "ipython",
        "version": 3
      },
      "file_extension": ".py",
      "mimetype": "text/x-python",
      "name": "python",
      "nbconvert_exporter": "python",
      "pygments_lexer": "ipython3",
      "version": "3.6.6"
    },
    "colab": {
      "name": "Dilavar Singh - Team 5 - Facebook Comment Volume - Capstone Project.ipynb",
      "provenance": [],
      "collapsed_sections": [],
      "include_colab_link": true
    }
  },
  "cells": [
    {
      "cell_type": "markdown",
      "metadata": {
        "id": "view-in-github",
        "colab_type": "text"
      },
      "source": [
        "<a href=\"https://colab.research.google.com/github/Dilavarj7/Facebook-Comment-Volume/blob/main/Dilavar_Singh_Team_5_Facebook_Comment_Volume_Capstone_Project.ipynb\" target=\"_parent\"><img src=\"https://colab.research.google.com/assets/colab-badge.svg\" alt=\"Open In Colab\"/></a>"
      ]
    },
    {
      "cell_type": "markdown",
      "metadata": {
        "id": "tOGC-qoyhJeX"
      },
      "source": [
        "# <b>Project Title : Facebook Comment Volume Dataset Data Set</b>"
      ]
    },
    {
      "cell_type": "markdown",
      "metadata": {
        "id": "Y06xIdG26kRF"
      },
      "source": [
        "### **Data Set Information:**\n",
        "The dataset contains 5 variants of the dataset, for the details about the variants and detailed analysis read and cite the research paper.\n",
        "Attribute Information:\n",
        "1. Page Popularity/likes ,Decimal Encoding,Page feature\n",
        "Defines the popularity or support for the source of the document.\n",
        "2\n",
        "Page Checkinsâ€™s\n",
        "Decimal Encoding\n",
        "Page feature\n",
        "Describes how many individuals so far visited this place. This feature is only associated with the places eg:some institution, place, theater etc.\n",
        "3\n",
        "Page talking about\n",
        "Decimal Encoding\n",
        "Page feature\n",
        "Defines the daily interest of individuals towards source of the document/ Post. The people who actually come back to the page, after liking the page. This include activities such as comments, likes to a post, shares, etc by visitors to the page.\n",
        "\n",
        "\n",
        "4\n",
        "Page Category\n",
        "Value Encoding\n",
        "Page feature\n",
        "Defines the category of the source of the document eg: place, institution, brand etc.\n",
        "\n",
        "\n",
        "5 - 29\n",
        "Derived\n",
        "Decimal Encoding\n",
        "Derived feature\n",
        "These features are aggregated by page, by calculating min, max, average, median and standard deviation of essential features.\n",
        "\n",
        "\n",
        "30\n",
        "CC1\n",
        "Decimal Encoding\n",
        "Essential feature\n",
        "The total number of comments before selected base date/time.\n",
        "\n",
        "\n",
        "31\n",
        "CC2\n",
        "Decimal Encoding\n",
        "Essential feature\n",
        "The number of comments in last 24 hours, relative to base date/time.\n",
        "\n",
        "\n",
        "32\n",
        "CC3\n",
        "Decimal Encoding\n",
        "Essential feature\n",
        "The number of comments in last 48 to last 24 hours relative to base date/time.\n",
        "\n",
        "\n",
        "33\n",
        "CC4\n",
        "Decimal Encoding\n",
        "Essential feature\n",
        "The number of comments in the first 24 hours after the publication of post but before base date/time.\n",
        "\n",
        "\n",
        "34\n",
        "CC5\n",
        "Decimal Encoding\n",
        "Essential feature\n",
        "The difference between CC2 and CC3.\n",
        "\n",
        "\n",
        "35\n",
        "Base time\n",
        "Decimal(0-71) Encoding\n",
        "Other feature\n",
        "Selected time in order to simulate the scenario.\n",
        "\n",
        "\n",
        "36\n",
        "Post length\n",
        "Decimal Encoding\n",
        "Other feature\n",
        "Character count in the post.\n",
        "\n",
        "\n",
        "37\n",
        "Post Share Count\n",
        "ï¿¼ï¿¼Decimal Encoding\n",
        "Other feature\n",
        "This features counts the no of shares of the post, that how many peoples had shared this post on to their timeline.\n",
        "\n",
        "\n",
        "38\n",
        "Post Promotion Status\n",
        "ï¿¼ï¿¼Binary Encoding\n",
        "Other feature\n",
        "To reach more people with posts in News Feed, individual promote their post and this features tells that whether the post is promoted(1) or not(0).\n",
        "\n",
        "\n",
        "39\n",
        "H Local\n",
        "ï¿¼Decimal(0-23) Encoding\n",
        "Other feature\n",
        "This describes the H hrs, for which we have the target variable/ comments received.\n",
        "\n",
        "\n",
        "40-46\n",
        "Post published weekday\n",
        "Binary Encoding\n",
        "Weekdays feature\n",
        "This represents the day(Sunday...Saturday) on which the post was published.\n",
        "\n",
        "\n",
        "47-53\n",
        "Base DateTime weekday\n",
        "Binary Encoding\n",
        "Weekdays feature\n",
        "This represents the day(Sunday...Saturday) on selected base Date/Time.\n",
        "\n",
        "54\n",
        "Target Variable\n",
        "Decimal\n",
        "Target\n",
        "The no of comments in next H hrs(H is given in Feature no 39).\n",
        "\n",
        "\n"
      ]
    },
    {
      "cell_type": "markdown",
      "metadata": {
        "id": "oHvjisgR7199"
      },
      "source": [
        "## **Importing Important libraray and connecting Drive**"
      ]
    },
    {
      "cell_type": "code",
      "metadata": {
        "id": "dByMsuzT8Tnw"
      },
      "source": [
        "#Load the necessary python libraries\r\n",
        "import numpy as np\r\n",
        "import pandas as pd\r\n",
        "import matplotlib.pyplot as plt\r\n",
        "plt.style.use('ggplot')\r\n",
        "import seaborn as sns"
      ],
      "execution_count": 1,
      "outputs": []
    },
    {
      "cell_type": "code",
      "metadata": {
        "colab": {
          "base_uri": "https://localhost:8080/"
        },
        "id": "UGkFVzG5VvyW",
        "outputId": "05dc3830-40eb-4edf-8bc9-06720dd40974"
      },
      "source": [
        "from google.colab import drive\r\n",
        "drive.mount('/content/drive')"
      ],
      "execution_count": 2,
      "outputs": [
        {
          "output_type": "stream",
          "text": [
            "Mounted at /content/drive\n"
          ],
          "name": "stdout"
        }
      ]
    },
    {
      "cell_type": "markdown",
      "metadata": {
        "id": "cuBUsISzG3j9"
      },
      "source": [
        "## **Reading Train and Test Data**"
      ]
    },
    {
      "cell_type": "code",
      "metadata": {
        "id": "gtD0x5do4p04"
      },
      "source": [
        "columns=['Page_likes', 'Page_views', 'Daily_visitors', 'page_type', 'der_1', 'der_2', 'der_3', 'der_4', 'der_5', 'der_6', 'der_7', 'der_8', 'der_9', 'der_10', 'der_11', 'der_12', 'der_13', 'der_14', 'der_15', 'der_16', 'der_17', 'der_18', 'der_19', 'der_20', 'der_21', 'der_22', 'der_23', 'der_24', 'der_25', 'CC1', 'CC2', 'CC3', 'CC4', 'CC5', 'Base_time', 'Post_length', 'Post_share_count', 'Post_promotion_status', 'H', 'Sun', 'Mon', 'Tues', 'Wed', 'Thurs', 'Fri', 'Sat', 'Sun_time', 'Mon_time', 'Tues_time', 'Wed_time', 'Thurs_time', 'Fri_time', 'Sat_time', 'Num_of_comments']"
      ],
      "execution_count": 3,
      "outputs": []
    },
    {
      "cell_type": "code",
      "metadata": {
        "id": "GEaVMRP_9V3K"
      },
      "source": [
        "training_files = ['Features_Variant_1.csv', 'Features_Variant_2.csv', 'Features_Variant_3.csv','Features_Variant_4.csv', 'Features_Variant_5.csv']\r\n",
        "test_files = ['Test_Case_1.csv', 'Test_Case_2.csv', 'Test_Case_3.csv','Test_Case_4.csv', 'Test_Case_5.csv','Test_Case_6.csv', 'Test_Case_7.csv', 'Test_Case_8.csv', 'Test_Case_9.csv', 'Test_Case_10.csv']"
      ],
      "execution_count": 4,
      "outputs": []
    },
    {
      "cell_type": "code",
      "metadata": {
        "id": "JvQofLRy96LN"
      },
      "source": [
        "train_file_location = '/content/drive/MyDrive/AlmaBetter/Cohort Aravali/Module 4/Week 2/Day 1/data/dat/train/'\r\n",
        "test_file_location = '/content/drive/MyDrive/AlmaBetter/Cohort Aravali/Module 4/Week 2/Day 1/data/dat/test/'"
      ],
      "execution_count": 5,
      "outputs": []
    },
    {
      "cell_type": "markdown",
      "metadata": {
        "id": "uKm8LIR9HJVv"
      },
      "source": [
        "### **Train Data**"
      ]
    },
    {
      "cell_type": "code",
      "metadata": {
        "id": "-D66JTMCCeMI"
      },
      "source": [
        "train_data = pd.concat([pd.read_csv(train_file_location + csv_file_train, header=None,names=columns) for csv_file_train in training_files])"
      ],
      "execution_count": 6,
      "outputs": []
    },
    {
      "cell_type": "code",
      "metadata": {
        "id": "tXP6GlbhF2f4"
      },
      "source": [
        "train_data=train_data.reset_index()\r\n",
        "del train_data['index']"
      ],
      "execution_count": 7,
      "outputs": []
    },
    {
      "cell_type": "code",
      "metadata": {
        "colab": {
          "base_uri": "https://localhost:8080/",
          "height": 215
        },
        "id": "eqxr8NlqGdO4",
        "outputId": "ae96ad8e-51f8-4661-b294-1b3ec10ed2c1"
      },
      "source": [
        "train_data.head()"
      ],
      "execution_count": 8,
      "outputs": [
        {
          "output_type": "execute_result",
          "data": {
            "text/html": [
              "<div>\n",
              "<style scoped>\n",
              "    .dataframe tbody tr th:only-of-type {\n",
              "        vertical-align: middle;\n",
              "    }\n",
              "\n",
              "    .dataframe tbody tr th {\n",
              "        vertical-align: top;\n",
              "    }\n",
              "\n",
              "    .dataframe thead th {\n",
              "        text-align: right;\n",
              "    }\n",
              "</style>\n",
              "<table border=\"1\" class=\"dataframe\">\n",
              "  <thead>\n",
              "    <tr style=\"text-align: right;\">\n",
              "      <th></th>\n",
              "      <th>Page_likes</th>\n",
              "      <th>Page_views</th>\n",
              "      <th>Daily_visitors</th>\n",
              "      <th>page_type</th>\n",
              "      <th>der_1</th>\n",
              "      <th>der_2</th>\n",
              "      <th>der_3</th>\n",
              "      <th>der_4</th>\n",
              "      <th>der_5</th>\n",
              "      <th>der_6</th>\n",
              "      <th>der_7</th>\n",
              "      <th>der_8</th>\n",
              "      <th>der_9</th>\n",
              "      <th>der_10</th>\n",
              "      <th>der_11</th>\n",
              "      <th>der_12</th>\n",
              "      <th>der_13</th>\n",
              "      <th>der_14</th>\n",
              "      <th>der_15</th>\n",
              "      <th>der_16</th>\n",
              "      <th>der_17</th>\n",
              "      <th>der_18</th>\n",
              "      <th>der_19</th>\n",
              "      <th>der_20</th>\n",
              "      <th>der_21</th>\n",
              "      <th>der_22</th>\n",
              "      <th>der_23</th>\n",
              "      <th>der_24</th>\n",
              "      <th>der_25</th>\n",
              "      <th>CC1</th>\n",
              "      <th>CC2</th>\n",
              "      <th>CC3</th>\n",
              "      <th>CC4</th>\n",
              "      <th>CC5</th>\n",
              "      <th>Base_time</th>\n",
              "      <th>Post_length</th>\n",
              "      <th>Post_share_count</th>\n",
              "      <th>Post_promotion_status</th>\n",
              "      <th>H</th>\n",
              "      <th>Sun</th>\n",
              "      <th>Mon</th>\n",
              "      <th>Tues</th>\n",
              "      <th>Wed</th>\n",
              "      <th>Thurs</th>\n",
              "      <th>Fri</th>\n",
              "      <th>Sat</th>\n",
              "      <th>Sun_time</th>\n",
              "      <th>Mon_time</th>\n",
              "      <th>Tues_time</th>\n",
              "      <th>Wed_time</th>\n",
              "      <th>Thurs_time</th>\n",
              "      <th>Fri_time</th>\n",
              "      <th>Sat_time</th>\n",
              "      <th>Num_of_comments</th>\n",
              "    </tr>\n",
              "  </thead>\n",
              "  <tbody>\n",
              "    <tr>\n",
              "      <th>0</th>\n",
              "      <td>634995</td>\n",
              "      <td>0</td>\n",
              "      <td>463</td>\n",
              "      <td>1</td>\n",
              "      <td>0.0</td>\n",
              "      <td>806.0</td>\n",
              "      <td>11.291045</td>\n",
              "      <td>1.0</td>\n",
              "      <td>70.495138</td>\n",
              "      <td>0.0</td>\n",
              "      <td>806.0</td>\n",
              "      <td>7.574627</td>\n",
              "      <td>0.0</td>\n",
              "      <td>69.435826</td>\n",
              "      <td>0.0</td>\n",
              "      <td>76.0</td>\n",
              "      <td>2.604478</td>\n",
              "      <td>0.0</td>\n",
              "      <td>8.505502</td>\n",
              "      <td>0.0</td>\n",
              "      <td>806.0</td>\n",
              "      <td>10.649254</td>\n",
              "      <td>1.0</td>\n",
              "      <td>70.254788</td>\n",
              "      <td>-69.0</td>\n",
              "      <td>806.0</td>\n",
              "      <td>4.970149</td>\n",
              "      <td>0.0</td>\n",
              "      <td>69.85058</td>\n",
              "      <td>0</td>\n",
              "      <td>0</td>\n",
              "      <td>0</td>\n",
              "      <td>0</td>\n",
              "      <td>0</td>\n",
              "      <td>65</td>\n",
              "      <td>166</td>\n",
              "      <td>2</td>\n",
              "      <td>0</td>\n",
              "      <td>24</td>\n",
              "      <td>0</td>\n",
              "      <td>0</td>\n",
              "      <td>0</td>\n",
              "      <td>1</td>\n",
              "      <td>0</td>\n",
              "      <td>0</td>\n",
              "      <td>0</td>\n",
              "      <td>0</td>\n",
              "      <td>0</td>\n",
              "      <td>0</td>\n",
              "      <td>0</td>\n",
              "      <td>0</td>\n",
              "      <td>0</td>\n",
              "      <td>1</td>\n",
              "      <td>0</td>\n",
              "    </tr>\n",
              "    <tr>\n",
              "      <th>1</th>\n",
              "      <td>634995</td>\n",
              "      <td>0</td>\n",
              "      <td>463</td>\n",
              "      <td>1</td>\n",
              "      <td>0.0</td>\n",
              "      <td>806.0</td>\n",
              "      <td>11.291045</td>\n",
              "      <td>1.0</td>\n",
              "      <td>70.495138</td>\n",
              "      <td>0.0</td>\n",
              "      <td>806.0</td>\n",
              "      <td>7.574627</td>\n",
              "      <td>0.0</td>\n",
              "      <td>69.435826</td>\n",
              "      <td>0.0</td>\n",
              "      <td>76.0</td>\n",
              "      <td>2.604478</td>\n",
              "      <td>0.0</td>\n",
              "      <td>8.505502</td>\n",
              "      <td>0.0</td>\n",
              "      <td>806.0</td>\n",
              "      <td>10.649254</td>\n",
              "      <td>1.0</td>\n",
              "      <td>70.254788</td>\n",
              "      <td>-69.0</td>\n",
              "      <td>806.0</td>\n",
              "      <td>4.970149</td>\n",
              "      <td>0.0</td>\n",
              "      <td>69.85058</td>\n",
              "      <td>0</td>\n",
              "      <td>0</td>\n",
              "      <td>0</td>\n",
              "      <td>0</td>\n",
              "      <td>0</td>\n",
              "      <td>10</td>\n",
              "      <td>132</td>\n",
              "      <td>1</td>\n",
              "      <td>0</td>\n",
              "      <td>24</td>\n",
              "      <td>0</td>\n",
              "      <td>0</td>\n",
              "      <td>0</td>\n",
              "      <td>0</td>\n",
              "      <td>1</td>\n",
              "      <td>0</td>\n",
              "      <td>0</td>\n",
              "      <td>0</td>\n",
              "      <td>0</td>\n",
              "      <td>0</td>\n",
              "      <td>0</td>\n",
              "      <td>0</td>\n",
              "      <td>1</td>\n",
              "      <td>0</td>\n",
              "      <td>0</td>\n",
              "    </tr>\n",
              "    <tr>\n",
              "      <th>2</th>\n",
              "      <td>634995</td>\n",
              "      <td>0</td>\n",
              "      <td>463</td>\n",
              "      <td>1</td>\n",
              "      <td>0.0</td>\n",
              "      <td>806.0</td>\n",
              "      <td>11.291045</td>\n",
              "      <td>1.0</td>\n",
              "      <td>70.495138</td>\n",
              "      <td>0.0</td>\n",
              "      <td>806.0</td>\n",
              "      <td>7.574627</td>\n",
              "      <td>0.0</td>\n",
              "      <td>69.435826</td>\n",
              "      <td>0.0</td>\n",
              "      <td>76.0</td>\n",
              "      <td>2.604478</td>\n",
              "      <td>0.0</td>\n",
              "      <td>8.505502</td>\n",
              "      <td>0.0</td>\n",
              "      <td>806.0</td>\n",
              "      <td>10.649254</td>\n",
              "      <td>1.0</td>\n",
              "      <td>70.254788</td>\n",
              "      <td>-69.0</td>\n",
              "      <td>806.0</td>\n",
              "      <td>4.970149</td>\n",
              "      <td>0.0</td>\n",
              "      <td>69.85058</td>\n",
              "      <td>0</td>\n",
              "      <td>0</td>\n",
              "      <td>0</td>\n",
              "      <td>0</td>\n",
              "      <td>0</td>\n",
              "      <td>14</td>\n",
              "      <td>133</td>\n",
              "      <td>2</td>\n",
              "      <td>0</td>\n",
              "      <td>24</td>\n",
              "      <td>0</td>\n",
              "      <td>0</td>\n",
              "      <td>0</td>\n",
              "      <td>0</td>\n",
              "      <td>0</td>\n",
              "      <td>1</td>\n",
              "      <td>0</td>\n",
              "      <td>0</td>\n",
              "      <td>0</td>\n",
              "      <td>0</td>\n",
              "      <td>0</td>\n",
              "      <td>0</td>\n",
              "      <td>0</td>\n",
              "      <td>1</td>\n",
              "      <td>0</td>\n",
              "    </tr>\n",
              "    <tr>\n",
              "      <th>3</th>\n",
              "      <td>634995</td>\n",
              "      <td>0</td>\n",
              "      <td>463</td>\n",
              "      <td>1</td>\n",
              "      <td>0.0</td>\n",
              "      <td>806.0</td>\n",
              "      <td>11.291045</td>\n",
              "      <td>1.0</td>\n",
              "      <td>70.495138</td>\n",
              "      <td>0.0</td>\n",
              "      <td>806.0</td>\n",
              "      <td>7.574627</td>\n",
              "      <td>0.0</td>\n",
              "      <td>69.435826</td>\n",
              "      <td>0.0</td>\n",
              "      <td>76.0</td>\n",
              "      <td>2.604478</td>\n",
              "      <td>0.0</td>\n",
              "      <td>8.505502</td>\n",
              "      <td>0.0</td>\n",
              "      <td>806.0</td>\n",
              "      <td>10.649254</td>\n",
              "      <td>1.0</td>\n",
              "      <td>70.254788</td>\n",
              "      <td>-69.0</td>\n",
              "      <td>806.0</td>\n",
              "      <td>4.970149</td>\n",
              "      <td>0.0</td>\n",
              "      <td>69.85058</td>\n",
              "      <td>7</td>\n",
              "      <td>0</td>\n",
              "      <td>3</td>\n",
              "      <td>7</td>\n",
              "      <td>-3</td>\n",
              "      <td>62</td>\n",
              "      <td>131</td>\n",
              "      <td>1</td>\n",
              "      <td>0</td>\n",
              "      <td>24</td>\n",
              "      <td>0</td>\n",
              "      <td>0</td>\n",
              "      <td>0</td>\n",
              "      <td>0</td>\n",
              "      <td>0</td>\n",
              "      <td>1</td>\n",
              "      <td>0</td>\n",
              "      <td>0</td>\n",
              "      <td>1</td>\n",
              "      <td>0</td>\n",
              "      <td>0</td>\n",
              "      <td>0</td>\n",
              "      <td>0</td>\n",
              "      <td>0</td>\n",
              "      <td>0</td>\n",
              "    </tr>\n",
              "    <tr>\n",
              "      <th>4</th>\n",
              "      <td>634995</td>\n",
              "      <td>0</td>\n",
              "      <td>463</td>\n",
              "      <td>1</td>\n",
              "      <td>0.0</td>\n",
              "      <td>806.0</td>\n",
              "      <td>11.291045</td>\n",
              "      <td>1.0</td>\n",
              "      <td>70.495138</td>\n",
              "      <td>0.0</td>\n",
              "      <td>806.0</td>\n",
              "      <td>7.574627</td>\n",
              "      <td>0.0</td>\n",
              "      <td>69.435826</td>\n",
              "      <td>0.0</td>\n",
              "      <td>76.0</td>\n",
              "      <td>2.604478</td>\n",
              "      <td>0.0</td>\n",
              "      <td>8.505502</td>\n",
              "      <td>0.0</td>\n",
              "      <td>806.0</td>\n",
              "      <td>10.649254</td>\n",
              "      <td>1.0</td>\n",
              "      <td>70.254788</td>\n",
              "      <td>-69.0</td>\n",
              "      <td>806.0</td>\n",
              "      <td>4.970149</td>\n",
              "      <td>0.0</td>\n",
              "      <td>69.85058</td>\n",
              "      <td>1</td>\n",
              "      <td>0</td>\n",
              "      <td>0</td>\n",
              "      <td>1</td>\n",
              "      <td>0</td>\n",
              "      <td>58</td>\n",
              "      <td>142</td>\n",
              "      <td>5</td>\n",
              "      <td>0</td>\n",
              "      <td>24</td>\n",
              "      <td>0</td>\n",
              "      <td>1</td>\n",
              "      <td>0</td>\n",
              "      <td>0</td>\n",
              "      <td>0</td>\n",
              "      <td>0</td>\n",
              "      <td>0</td>\n",
              "      <td>0</td>\n",
              "      <td>0</td>\n",
              "      <td>0</td>\n",
              "      <td>1</td>\n",
              "      <td>0</td>\n",
              "      <td>0</td>\n",
              "      <td>0</td>\n",
              "      <td>0</td>\n",
              "    </tr>\n",
              "  </tbody>\n",
              "</table>\n",
              "</div>"
            ],
            "text/plain": [
              "   Page_likes  Page_views  Daily_visitors  ...  Fri_time  Sat_time  Num_of_comments\n",
              "0      634995           0             463  ...         0         1                0\n",
              "1      634995           0             463  ...         1         0                0\n",
              "2      634995           0             463  ...         0         1                0\n",
              "3      634995           0             463  ...         0         0                0\n",
              "4      634995           0             463  ...         0         0                0\n",
              "\n",
              "[5 rows x 54 columns]"
            ]
          },
          "metadata": {
            "tags": []
          },
          "execution_count": 8
        }
      ]
    },
    {
      "cell_type": "code",
      "metadata": {
        "colab": {
          "base_uri": "https://localhost:8080/"
        },
        "id": "6dDoYkF6GiBx",
        "outputId": "dc63af86-29f9-47c6-8af9-f34a9b50e071"
      },
      "source": [
        "train_data.info()"
      ],
      "execution_count": 9,
      "outputs": [
        {
          "output_type": "stream",
          "text": [
            "<class 'pandas.core.frame.DataFrame'>\n",
            "RangeIndex: 602813 entries, 0 to 602812\n",
            "Data columns (total 54 columns):\n",
            " #   Column                 Non-Null Count   Dtype  \n",
            "---  ------                 --------------   -----  \n",
            " 0   Page_likes             602813 non-null  int64  \n",
            " 1   Page_views             602813 non-null  int64  \n",
            " 2   Daily_visitors         602813 non-null  int64  \n",
            " 3   page_type              602813 non-null  int64  \n",
            " 4   der_1                  602813 non-null  float64\n",
            " 5   der_2                  602813 non-null  float64\n",
            " 6   der_3                  602813 non-null  float64\n",
            " 7   der_4                  602813 non-null  float64\n",
            " 8   der_5                  602813 non-null  float64\n",
            " 9   der_6                  602813 non-null  float64\n",
            " 10  der_7                  602813 non-null  float64\n",
            " 11  der_8                  602813 non-null  float64\n",
            " 12  der_9                  602813 non-null  float64\n",
            " 13  der_10                 602813 non-null  float64\n",
            " 14  der_11                 602813 non-null  float64\n",
            " 15  der_12                 602813 non-null  float64\n",
            " 16  der_13                 602813 non-null  float64\n",
            " 17  der_14                 602813 non-null  float64\n",
            " 18  der_15                 602813 non-null  float64\n",
            " 19  der_16                 602813 non-null  float64\n",
            " 20  der_17                 602813 non-null  float64\n",
            " 21  der_18                 602813 non-null  float64\n",
            " 22  der_19                 602813 non-null  float64\n",
            " 23  der_20                 602813 non-null  float64\n",
            " 24  der_21                 602813 non-null  float64\n",
            " 25  der_22                 602813 non-null  float64\n",
            " 26  der_23                 602813 non-null  float64\n",
            " 27  der_24                 602813 non-null  float64\n",
            " 28  der_25                 602813 non-null  float64\n",
            " 29  CC1                    602813 non-null  int64  \n",
            " 30  CC2                    602813 non-null  int64  \n",
            " 31  CC3                    602813 non-null  int64  \n",
            " 32  CC4                    602813 non-null  int64  \n",
            " 33  CC5                    602813 non-null  int64  \n",
            " 34  Base_time              602813 non-null  int64  \n",
            " 35  Post_length            602813 non-null  int64  \n",
            " 36  Post_share_count       602813 non-null  int64  \n",
            " 37  Post_promotion_status  602813 non-null  int64  \n",
            " 38  H                      602813 non-null  int64  \n",
            " 39  Sun                    602813 non-null  int64  \n",
            " 40  Mon                    602813 non-null  int64  \n",
            " 41  Tues                   602813 non-null  int64  \n",
            " 42  Wed                    602813 non-null  int64  \n",
            " 43  Thurs                  602813 non-null  int64  \n",
            " 44  Fri                    602813 non-null  int64  \n",
            " 45  Sat                    602813 non-null  int64  \n",
            " 46  Sun_time               602813 non-null  int64  \n",
            " 47  Mon_time               602813 non-null  int64  \n",
            " 48  Tues_time              602813 non-null  int64  \n",
            " 49  Wed_time               602813 non-null  int64  \n",
            " 50  Thurs_time             602813 non-null  int64  \n",
            " 51  Fri_time               602813 non-null  int64  \n",
            " 52  Sat_time               602813 non-null  int64  \n",
            " 53  Num_of_comments        602813 non-null  int64  \n",
            "dtypes: float64(25), int64(29)\n",
            "memory usage: 248.4 MB\n"
          ],
          "name": "stdout"
        }
      ]
    },
    {
      "cell_type": "code",
      "metadata": {
        "colab": {
          "base_uri": "https://localhost:8080/",
          "height": 304
        },
        "id": "2IFSL0MDGh-Q",
        "outputId": "bc19fcb9-9fac-40d4-aa4d-6545f5449167"
      },
      "source": [
        "train_data.describe()"
      ],
      "execution_count": 10,
      "outputs": [
        {
          "output_type": "execute_result",
          "data": {
            "text/html": [
              "<div>\n",
              "<style scoped>\n",
              "    .dataframe tbody tr th:only-of-type {\n",
              "        vertical-align: middle;\n",
              "    }\n",
              "\n",
              "    .dataframe tbody tr th {\n",
              "        vertical-align: top;\n",
              "    }\n",
              "\n",
              "    .dataframe thead th {\n",
              "        text-align: right;\n",
              "    }\n",
              "</style>\n",
              "<table border=\"1\" class=\"dataframe\">\n",
              "  <thead>\n",
              "    <tr style=\"text-align: right;\">\n",
              "      <th></th>\n",
              "      <th>Page_likes</th>\n",
              "      <th>Page_views</th>\n",
              "      <th>Daily_visitors</th>\n",
              "      <th>page_type</th>\n",
              "      <th>der_1</th>\n",
              "      <th>der_2</th>\n",
              "      <th>der_3</th>\n",
              "      <th>der_4</th>\n",
              "      <th>der_5</th>\n",
              "      <th>der_6</th>\n",
              "      <th>der_7</th>\n",
              "      <th>der_8</th>\n",
              "      <th>der_9</th>\n",
              "      <th>der_10</th>\n",
              "      <th>der_11</th>\n",
              "      <th>der_12</th>\n",
              "      <th>der_13</th>\n",
              "      <th>der_14</th>\n",
              "      <th>der_15</th>\n",
              "      <th>der_16</th>\n",
              "      <th>der_17</th>\n",
              "      <th>der_18</th>\n",
              "      <th>der_19</th>\n",
              "      <th>der_20</th>\n",
              "      <th>der_21</th>\n",
              "      <th>der_22</th>\n",
              "      <th>der_23</th>\n",
              "      <th>der_24</th>\n",
              "      <th>der_25</th>\n",
              "      <th>CC1</th>\n",
              "      <th>CC2</th>\n",
              "      <th>CC3</th>\n",
              "      <th>CC4</th>\n",
              "      <th>CC5</th>\n",
              "      <th>Base_time</th>\n",
              "      <th>Post_length</th>\n",
              "      <th>Post_share_count</th>\n",
              "      <th>Post_promotion_status</th>\n",
              "      <th>H</th>\n",
              "      <th>Sun</th>\n",
              "      <th>Mon</th>\n",
              "      <th>Tues</th>\n",
              "      <th>Wed</th>\n",
              "      <th>Thurs</th>\n",
              "      <th>Fri</th>\n",
              "      <th>Sat</th>\n",
              "      <th>Sun_time</th>\n",
              "      <th>Mon_time</th>\n",
              "      <th>Tues_time</th>\n",
              "      <th>Wed_time</th>\n",
              "      <th>Thurs_time</th>\n",
              "      <th>Fri_time</th>\n",
              "      <th>Sat_time</th>\n",
              "      <th>Num_of_comments</th>\n",
              "    </tr>\n",
              "  </thead>\n",
              "  <tbody>\n",
              "    <tr>\n",
              "      <th>count</th>\n",
              "      <td>6.028130e+05</td>\n",
              "      <td>602813.000000</td>\n",
              "      <td>6.028130e+05</td>\n",
              "      <td>602813.000000</td>\n",
              "      <td>602813.000000</td>\n",
              "      <td>602813.000000</td>\n",
              "      <td>602813.000000</td>\n",
              "      <td>602813.000000</td>\n",
              "      <td>602813.000000</td>\n",
              "      <td>602813.000000</td>\n",
              "      <td>602813.000000</td>\n",
              "      <td>602813.000000</td>\n",
              "      <td>602813.000000</td>\n",
              "      <td>602813.000000</td>\n",
              "      <td>602813.000000</td>\n",
              "      <td>602813.000000</td>\n",
              "      <td>602813.000000</td>\n",
              "      <td>602813.000000</td>\n",
              "      <td>602813.000000</td>\n",
              "      <td>602813.000000</td>\n",
              "      <td>602813.000000</td>\n",
              "      <td>602813.000000</td>\n",
              "      <td>602813.000000</td>\n",
              "      <td>602813.000000</td>\n",
              "      <td>602813.000000</td>\n",
              "      <td>602813.000000</td>\n",
              "      <td>602813.000000</td>\n",
              "      <td>602813.000000</td>\n",
              "      <td>602813.000000</td>\n",
              "      <td>602813.000000</td>\n",
              "      <td>602813.000000</td>\n",
              "      <td>602813.000000</td>\n",
              "      <td>602813.000000</td>\n",
              "      <td>602813.000000</td>\n",
              "      <td>602813.000000</td>\n",
              "      <td>602813.000000</td>\n",
              "      <td>602813.000000</td>\n",
              "      <td>602813.0</td>\n",
              "      <td>602813.000000</td>\n",
              "      <td>602813.000000</td>\n",
              "      <td>602813.000000</td>\n",
              "      <td>602813.000000</td>\n",
              "      <td>602813.000000</td>\n",
              "      <td>602813.000000</td>\n",
              "      <td>602813.000000</td>\n",
              "      <td>602813.000000</td>\n",
              "      <td>602813.000000</td>\n",
              "      <td>602813.000000</td>\n",
              "      <td>602813.000000</td>\n",
              "      <td>602813.000000</td>\n",
              "      <td>602813.000000</td>\n",
              "      <td>602813.000000</td>\n",
              "      <td>602813.000000</td>\n",
              "      <td>602813.000000</td>\n",
              "    </tr>\n",
              "    <tr>\n",
              "      <th>mean</th>\n",
              "      <td>1.313640e+06</td>\n",
              "      <td>4673.203879</td>\n",
              "      <td>4.476571e+04</td>\n",
              "      <td>24.247191</td>\n",
              "      <td>0.647484</td>\n",
              "      <td>477.611931</td>\n",
              "      <td>55.862191</td>\n",
              "      <td>35.350722</td>\n",
              "      <td>67.970492</td>\n",
              "      <td>0.093704</td>\n",
              "      <td>360.645263</td>\n",
              "      <td>21.832324</td>\n",
              "      <td>7.191323</td>\n",
              "      <td>40.655821</td>\n",
              "      <td>0.004783</td>\n",
              "      <td>356.096927</td>\n",
              "      <td>19.975198</td>\n",
              "      <td>4.891739</td>\n",
              "      <td>40.381204</td>\n",
              "      <td>0.637869</td>\n",
              "      <td>432.107557</td>\n",
              "      <td>52.712841</td>\n",
              "      <td>33.713858</td>\n",
              "      <td>63.399954</td>\n",
              "      <td>-303.691939</td>\n",
              "      <td>355.070838</td>\n",
              "      <td>1.857127</td>\n",
              "      <td>-2.154098</td>\n",
              "      <td>56.575764</td>\n",
              "      <td>55.862191</td>\n",
              "      <td>21.832324</td>\n",
              "      <td>19.975198</td>\n",
              "      <td>52.712841</td>\n",
              "      <td>1.857127</td>\n",
              "      <td>35.455246</td>\n",
              "      <td>163.653299</td>\n",
              "      <td>117.301825</td>\n",
              "      <td>0.0</td>\n",
              "      <td>23.776863</td>\n",
              "      <td>0.122373</td>\n",
              "      <td>0.143268</td>\n",
              "      <td>0.149655</td>\n",
              "      <td>0.157304</td>\n",
              "      <td>0.144224</td>\n",
              "      <td>0.146236</td>\n",
              "      <td>0.136940</td>\n",
              "      <td>0.140055</td>\n",
              "      <td>0.133871</td>\n",
              "      <td>0.137734</td>\n",
              "      <td>0.146691</td>\n",
              "      <td>0.154759</td>\n",
              "      <td>0.144649</td>\n",
              "      <td>0.142241</td>\n",
              "      <td>7.163027</td>\n",
              "    </tr>\n",
              "    <tr>\n",
              "      <th>std</th>\n",
              "      <td>6.803585e+06</td>\n",
              "      <td>20575.824358</td>\n",
              "      <td>1.109773e+05</td>\n",
              "      <td>19.941391</td>\n",
              "      <td>13.109703</td>\n",
              "      <td>531.568316</td>\n",
              "      <td>86.496000</td>\n",
              "      <td>68.596065</td>\n",
              "      <td>82.578215</td>\n",
              "      <td>4.429349</td>\n",
              "      <td>427.060351</td>\n",
              "      <td>35.877491</td>\n",
              "      <td>19.721355</td>\n",
              "      <td>52.121184</td>\n",
              "      <td>0.767188</td>\n",
              "      <td>416.974563</td>\n",
              "      <td>31.295723</td>\n",
              "      <td>13.155559</td>\n",
              "      <td>52.277911</td>\n",
              "      <td>12.840748</td>\n",
              "      <td>488.500363</td>\n",
              "      <td>80.986855</td>\n",
              "      <td>64.795633</td>\n",
              "      <td>76.999296</td>\n",
              "      <td>368.772680</td>\n",
              "      <td>425.727758</td>\n",
              "      <td>11.986586</td>\n",
              "      <td>11.768231</td>\n",
              "      <td>74.411902</td>\n",
              "      <td>137.552591</td>\n",
              "      <td>75.211108</td>\n",
              "      <td>73.096146</td>\n",
              "      <td>128.480828</td>\n",
              "      <td>94.242410</td>\n",
              "      <td>20.974073</td>\n",
              "      <td>375.782004</td>\n",
              "      <td>951.304620</td>\n",
              "      <td>0.0</td>\n",
              "      <td>1.858326</td>\n",
              "      <td>0.327716</td>\n",
              "      <td>0.350347</td>\n",
              "      <td>0.356733</td>\n",
              "      <td>0.364088</td>\n",
              "      <td>0.351317</td>\n",
              "      <td>0.353343</td>\n",
              "      <td>0.343784</td>\n",
              "      <td>0.347044</td>\n",
              "      <td>0.340514</td>\n",
              "      <td>0.344621</td>\n",
              "      <td>0.353798</td>\n",
              "      <td>0.361676</td>\n",
              "      <td>0.351746</td>\n",
              "      <td>0.349298</td>\n",
              "      <td>34.462254</td>\n",
              "    </tr>\n",
              "    <tr>\n",
              "      <th>min</th>\n",
              "      <td>3.600000e+01</td>\n",
              "      <td>0.000000</td>\n",
              "      <td>0.000000e+00</td>\n",
              "      <td>1.000000</td>\n",
              "      <td>0.000000</td>\n",
              "      <td>0.000000</td>\n",
              "      <td>0.000000</td>\n",
              "      <td>0.000000</td>\n",
              "      <td>0.000000</td>\n",
              "      <td>0.000000</td>\n",
              "      <td>0.000000</td>\n",
              "      <td>0.000000</td>\n",
              "      <td>0.000000</td>\n",
              "      <td>0.000000</td>\n",
              "      <td>0.000000</td>\n",
              "      <td>0.000000</td>\n",
              "      <td>0.000000</td>\n",
              "      <td>0.000000</td>\n",
              "      <td>0.000000</td>\n",
              "      <td>0.000000</td>\n",
              "      <td>0.000000</td>\n",
              "      <td>0.000000</td>\n",
              "      <td>0.000000</td>\n",
              "      <td>0.000000</td>\n",
              "      <td>-2038.000000</td>\n",
              "      <td>-204.000000</td>\n",
              "      <td>-584.666667</td>\n",
              "      <td>-1411.000000</td>\n",
              "      <td>0.000000</td>\n",
              "      <td>0.000000</td>\n",
              "      <td>0.000000</td>\n",
              "      <td>0.000000</td>\n",
              "      <td>0.000000</td>\n",
              "      <td>-2038.000000</td>\n",
              "      <td>0.000000</td>\n",
              "      <td>0.000000</td>\n",
              "      <td>1.000000</td>\n",
              "      <td>0.0</td>\n",
              "      <td>1.000000</td>\n",
              "      <td>0.000000</td>\n",
              "      <td>0.000000</td>\n",
              "      <td>0.000000</td>\n",
              "      <td>0.000000</td>\n",
              "      <td>0.000000</td>\n",
              "      <td>0.000000</td>\n",
              "      <td>0.000000</td>\n",
              "      <td>0.000000</td>\n",
              "      <td>0.000000</td>\n",
              "      <td>0.000000</td>\n",
              "      <td>0.000000</td>\n",
              "      <td>0.000000</td>\n",
              "      <td>0.000000</td>\n",
              "      <td>0.000000</td>\n",
              "      <td>0.000000</td>\n",
              "    </tr>\n",
              "    <tr>\n",
              "      <th>25%</th>\n",
              "      <td>3.673400e+04</td>\n",
              "      <td>0.000000</td>\n",
              "      <td>6.980000e+02</td>\n",
              "      <td>9.000000</td>\n",
              "      <td>0.000000</td>\n",
              "      <td>47.000000</td>\n",
              "      <td>5.419108</td>\n",
              "      <td>2.000000</td>\n",
              "      <td>8.032349</td>\n",
              "      <td>0.000000</td>\n",
              "      <td>38.000000</td>\n",
              "      <td>2.037736</td>\n",
              "      <td>0.000000</td>\n",
              "      <td>4.661879</td>\n",
              "      <td>0.000000</td>\n",
              "      <td>37.000000</td>\n",
              "      <td>1.961814</td>\n",
              "      <td>0.000000</td>\n",
              "      <td>4.556037</td>\n",
              "      <td>0.000000</td>\n",
              "      <td>43.000000</td>\n",
              "      <td>5.146154</td>\n",
              "      <td>2.000000</td>\n",
              "      <td>7.555776</td>\n",
              "      <td>-428.000000</td>\n",
              "      <td>38.000000</td>\n",
              "      <td>-0.144578</td>\n",
              "      <td>-2.000000</td>\n",
              "      <td>6.557562</td>\n",
              "      <td>2.000000</td>\n",
              "      <td>0.000000</td>\n",
              "      <td>0.000000</td>\n",
              "      <td>2.000000</td>\n",
              "      <td>-6.000000</td>\n",
              "      <td>17.000000</td>\n",
              "      <td>38.000000</td>\n",
              "      <td>2.000000</td>\n",
              "      <td>0.0</td>\n",
              "      <td>24.000000</td>\n",
              "      <td>0.000000</td>\n",
              "      <td>0.000000</td>\n",
              "      <td>0.000000</td>\n",
              "      <td>0.000000</td>\n",
              "      <td>0.000000</td>\n",
              "      <td>0.000000</td>\n",
              "      <td>0.000000</td>\n",
              "      <td>0.000000</td>\n",
              "      <td>0.000000</td>\n",
              "      <td>0.000000</td>\n",
              "      <td>0.000000</td>\n",
              "      <td>0.000000</td>\n",
              "      <td>0.000000</td>\n",
              "      <td>0.000000</td>\n",
              "      <td>0.000000</td>\n",
              "    </tr>\n",
              "    <tr>\n",
              "      <th>50%</th>\n",
              "      <td>2.929110e+05</td>\n",
              "      <td>0.000000</td>\n",
              "      <td>7.045000e+03</td>\n",
              "      <td>18.000000</td>\n",
              "      <td>0.000000</td>\n",
              "      <td>251.000000</td>\n",
              "      <td>23.647407</td>\n",
              "      <td>12.000000</td>\n",
              "      <td>33.771923</td>\n",
              "      <td>0.000000</td>\n",
              "      <td>175.000000</td>\n",
              "      <td>8.759322</td>\n",
              "      <td>2.000000</td>\n",
              "      <td>18.702148</td>\n",
              "      <td>0.000000</td>\n",
              "      <td>179.000000</td>\n",
              "      <td>8.133663</td>\n",
              "      <td>1.000000</td>\n",
              "      <td>19.060953</td>\n",
              "      <td>0.000000</td>\n",
              "      <td>231.000000</td>\n",
              "      <td>21.677140</td>\n",
              "      <td>12.000000</td>\n",
              "      <td>31.014726</td>\n",
              "      <td>-139.000000</td>\n",
              "      <td>164.000000</td>\n",
              "      <td>0.233365</td>\n",
              "      <td>0.000000</td>\n",
              "      <td>25.481725</td>\n",
              "      <td>11.000000</td>\n",
              "      <td>2.000000</td>\n",
              "      <td>0.000000</td>\n",
              "      <td>10.000000</td>\n",
              "      <td>0.000000</td>\n",
              "      <td>35.000000</td>\n",
              "      <td>97.000000</td>\n",
              "      <td>13.000000</td>\n",
              "      <td>0.0</td>\n",
              "      <td>24.000000</td>\n",
              "      <td>0.000000</td>\n",
              "      <td>0.000000</td>\n",
              "      <td>0.000000</td>\n",
              "      <td>0.000000</td>\n",
              "      <td>0.000000</td>\n",
              "      <td>0.000000</td>\n",
              "      <td>0.000000</td>\n",
              "      <td>0.000000</td>\n",
              "      <td>0.000000</td>\n",
              "      <td>0.000000</td>\n",
              "      <td>0.000000</td>\n",
              "      <td>0.000000</td>\n",
              "      <td>0.000000</td>\n",
              "      <td>0.000000</td>\n",
              "      <td>0.000000</td>\n",
              "    </tr>\n",
              "    <tr>\n",
              "      <th>75%</th>\n",
              "      <td>1.204214e+06</td>\n",
              "      <td>99.000000</td>\n",
              "      <td>5.026400e+04</td>\n",
              "      <td>32.000000</td>\n",
              "      <td>0.000000</td>\n",
              "      <td>760.000000</td>\n",
              "      <td>71.316946</td>\n",
              "      <td>41.000000</td>\n",
              "      <td>103.316009</td>\n",
              "      <td>0.000000</td>\n",
              "      <td>552.000000</td>\n",
              "      <td>27.380410</td>\n",
              "      <td>7.000000</td>\n",
              "      <td>59.479737</td>\n",
              "      <td>0.000000</td>\n",
              "      <td>535.000000</td>\n",
              "      <td>26.276471</td>\n",
              "      <td>5.000000</td>\n",
              "      <td>59.093147</td>\n",
              "      <td>0.000000</td>\n",
              "      <td>683.000000</td>\n",
              "      <td>68.197368</td>\n",
              "      <td>39.000000</td>\n",
              "      <td>96.721385</td>\n",
              "      <td>-32.000000</td>\n",
              "      <td>539.000000</td>\n",
              "      <td>1.737949</td>\n",
              "      <td>0.000000</td>\n",
              "      <td>81.121707</td>\n",
              "      <td>46.000000</td>\n",
              "      <td>11.000000</td>\n",
              "      <td>9.000000</td>\n",
              "      <td>44.000000</td>\n",
              "      <td>3.000000</td>\n",
              "      <td>53.000000</td>\n",
              "      <td>172.000000</td>\n",
              "      <td>61.000000</td>\n",
              "      <td>0.0</td>\n",
              "      <td>24.000000</td>\n",
              "      <td>0.000000</td>\n",
              "      <td>0.000000</td>\n",
              "      <td>0.000000</td>\n",
              "      <td>0.000000</td>\n",
              "      <td>0.000000</td>\n",
              "      <td>0.000000</td>\n",
              "      <td>0.000000</td>\n",
              "      <td>0.000000</td>\n",
              "      <td>0.000000</td>\n",
              "      <td>0.000000</td>\n",
              "      <td>0.000000</td>\n",
              "      <td>0.000000</td>\n",
              "      <td>0.000000</td>\n",
              "      <td>0.000000</td>\n",
              "      <td>3.000000</td>\n",
              "    </tr>\n",
              "    <tr>\n",
              "      <th>max</th>\n",
              "      <td>4.869723e+08</td>\n",
              "      <td>186370.000000</td>\n",
              "      <td>6.089942e+06</td>\n",
              "      <td>106.000000</td>\n",
              "      <td>2341.000000</td>\n",
              "      <td>2495.000000</td>\n",
              "      <td>2341.000000</td>\n",
              "      <td>2347.000000</td>\n",
              "      <td>1023.765690</td>\n",
              "      <td>1923.000000</td>\n",
              "      <td>2131.000000</td>\n",
              "      <td>1923.000000</td>\n",
              "      <td>1923.000000</td>\n",
              "      <td>809.157702</td>\n",
              "      <td>324.000000</td>\n",
              "      <td>2162.000000</td>\n",
              "      <td>1267.333333</td>\n",
              "      <td>1879.000000</td>\n",
              "      <td>896.320007</td>\n",
              "      <td>1923.000000</td>\n",
              "      <td>2184.000000</td>\n",
              "      <td>1923.000000</td>\n",
              "      <td>2106.000000</td>\n",
              "      <td>900.068435</td>\n",
              "      <td>1923.000000</td>\n",
              "      <td>2131.000000</td>\n",
              "      <td>1923.000000</td>\n",
              "      <td>1923.000000</td>\n",
              "      <td>1386.397760</td>\n",
              "      <td>2495.000000</td>\n",
              "      <td>2131.000000</td>\n",
              "      <td>2162.000000</td>\n",
              "      <td>2184.000000</td>\n",
              "      <td>2131.000000</td>\n",
              "      <td>72.000000</td>\n",
              "      <td>21480.000000</td>\n",
              "      <td>144860.000000</td>\n",
              "      <td>0.0</td>\n",
              "      <td>24.000000</td>\n",
              "      <td>1.000000</td>\n",
              "      <td>1.000000</td>\n",
              "      <td>1.000000</td>\n",
              "      <td>1.000000</td>\n",
              "      <td>1.000000</td>\n",
              "      <td>1.000000</td>\n",
              "      <td>1.000000</td>\n",
              "      <td>1.000000</td>\n",
              "      <td>1.000000</td>\n",
              "      <td>1.000000</td>\n",
              "      <td>1.000000</td>\n",
              "      <td>1.000000</td>\n",
              "      <td>1.000000</td>\n",
              "      <td>1.000000</td>\n",
              "      <td>2106.000000</td>\n",
              "    </tr>\n",
              "  </tbody>\n",
              "</table>\n",
              "</div>"
            ],
            "text/plain": [
              "         Page_likes     Page_views  ...       Sat_time  Num_of_comments\n",
              "count  6.028130e+05  602813.000000  ...  602813.000000    602813.000000\n",
              "mean   1.313640e+06    4673.203879  ...       0.142241         7.163027\n",
              "std    6.803585e+06   20575.824358  ...       0.349298        34.462254\n",
              "min    3.600000e+01       0.000000  ...       0.000000         0.000000\n",
              "25%    3.673400e+04       0.000000  ...       0.000000         0.000000\n",
              "50%    2.929110e+05       0.000000  ...       0.000000         0.000000\n",
              "75%    1.204214e+06      99.000000  ...       0.000000         3.000000\n",
              "max    4.869723e+08  186370.000000  ...       1.000000      2106.000000\n",
              "\n",
              "[8 rows x 54 columns]"
            ]
          },
          "metadata": {
            "tags": []
          },
          "execution_count": 10
        }
      ]
    },
    {
      "cell_type": "code",
      "metadata": {
        "colab": {
          "base_uri": "https://localhost:8080/",
          "height": 299
        },
        "id": "Vq-mENp8H-Ju",
        "outputId": "6c07a689-176e-4490-d1c7-78eac98dd140"
      },
      "source": [
        "sns.boxplot(x='Num_of_comments',data=train_data)"
      ],
      "execution_count": 11,
      "outputs": [
        {
          "output_type": "execute_result",
          "data": {
            "text/plain": [
              "<matplotlib.axes._subplots.AxesSubplot at 0x7f6e2a88fba8>"
            ]
          },
          "metadata": {
            "tags": []
          },
          "execution_count": 11
        },
        {
          "output_type": "display_data",
          "data": {
            "image/png": "[encoded data removed]",
            "text/plain": [
              "<Figure size 432x288 with 1 Axes>"
            ]
          },
          "metadata": {
            "tags": [],
            "needs_background": "light"
          }
        }
      ]
    },
    {
      "cell_type": "code",
      "metadata": {
        "colab": {
          "base_uri": "https://localhost:8080/",
          "height": 353
        },
        "id": "qrchV-zTMKJS",
        "outputId": "de7948ef-3c0e-4d19-fd30-0e854d3aae5f"
      },
      "source": [
        "sns.distplot(train_data['Num_of_comments'])"
      ],
      "execution_count": 12,
      "outputs": [
        {
          "output_type": "stream",
          "text": [
            "/usr/local/lib/python3.6/dist-packages/seaborn/distributions.py:2557: FutureWarning: `distplot` is a deprecated function and will be removed in a future version. Please adapt your code to use either `displot` (a figure-level function with similar flexibility) or `histplot` (an axes-level function for histograms).\n",
            "  warnings.warn(msg, FutureWarning)\n"
          ],
          "name": "stderr"
        },
        {
          "output_type": "execute_result",
          "data": {
            "text/plain": [
              "<matplotlib.axes._subplots.AxesSubplot at 0x7f6e2a7b8780>"
            ]
          },
          "metadata": {
            "tags": []
          },
          "execution_count": 12
        },
        {
          "output_type": "display_data",
          "data": {
            "image/png": "[encoded data removed]",
            "text/plain": [
              "<Figure size 432x288 with 1 Axes>"
            ]
          },
          "metadata": {
            "tags": [],
            "needs_background": "light"
          }
        }
      ]
    },
    {
      "cell_type": "markdown",
      "metadata": {
        "id": "oqGUIlChHNyE"
      },
      "source": [
        "### **Test Data**"
      ]
    },
    {
      "cell_type": "code",
      "metadata": {
        "id": "8oVxLxgQ_VHG"
      },
      "source": [
        "test_data = pd.concat([pd.read_csv(test_file_location + csv_file_test, header=None,names=columns) for csv_file_test in test_files])"
      ],
      "execution_count": 13,
      "outputs": []
    },
    {
      "cell_type": "code",
      "metadata": {
        "id": "LLwOruXQCjEJ"
      },
      "source": [
        "test_data=test_data.reset_index()\r\n",
        "del test_data['index']"
      ],
      "execution_count": 14,
      "outputs": []
    },
    {
      "cell_type": "code",
      "metadata": {
        "colab": {
          "base_uri": "https://localhost:8080/",
          "height": 215
        },
        "id": "WKY0tDLWHUmG",
        "outputId": "2dcba0f3-8aef-493e-c651-986e1db5518e"
      },
      "source": [
        "test_data.head()"
      ],
      "execution_count": 15,
      "outputs": [
        {
          "output_type": "execute_result",
          "data": {
            "text/html": [
              "<div>\n",
              "<style scoped>\n",
              "    .dataframe tbody tr th:only-of-type {\n",
              "        vertical-align: middle;\n",
              "    }\n",
              "\n",
              "    .dataframe tbody tr th {\n",
              "        vertical-align: top;\n",
              "    }\n",
              "\n",
              "    .dataframe thead th {\n",
              "        text-align: right;\n",
              "    }\n",
              "</style>\n",
              "<table border=\"1\" class=\"dataframe\">\n",
              "  <thead>\n",
              "    <tr style=\"text-align: right;\">\n",
              "      <th></th>\n",
              "      <th>Page_likes</th>\n",
              "      <th>Page_views</th>\n",
              "      <th>Daily_visitors</th>\n",
              "      <th>page_type</th>\n",
              "      <th>der_1</th>\n",
              "      <th>der_2</th>\n",
              "      <th>der_3</th>\n",
              "      <th>der_4</th>\n",
              "      <th>der_5</th>\n",
              "      <th>der_6</th>\n",
              "      <th>der_7</th>\n",
              "      <th>der_8</th>\n",
              "      <th>der_9</th>\n",
              "      <th>der_10</th>\n",
              "      <th>der_11</th>\n",
              "      <th>der_12</th>\n",
              "      <th>der_13</th>\n",
              "      <th>der_14</th>\n",
              "      <th>der_15</th>\n",
              "      <th>der_16</th>\n",
              "      <th>der_17</th>\n",
              "      <th>der_18</th>\n",
              "      <th>der_19</th>\n",
              "      <th>der_20</th>\n",
              "      <th>der_21</th>\n",
              "      <th>der_22</th>\n",
              "      <th>der_23</th>\n",
              "      <th>der_24</th>\n",
              "      <th>der_25</th>\n",
              "      <th>CC1</th>\n",
              "      <th>CC2</th>\n",
              "      <th>CC3</th>\n",
              "      <th>CC4</th>\n",
              "      <th>CC5</th>\n",
              "      <th>Base_time</th>\n",
              "      <th>Post_length</th>\n",
              "      <th>Post_share_count</th>\n",
              "      <th>Post_promotion_status</th>\n",
              "      <th>H</th>\n",
              "      <th>Sun</th>\n",
              "      <th>Mon</th>\n",
              "      <th>Tues</th>\n",
              "      <th>Wed</th>\n",
              "      <th>Thurs</th>\n",
              "      <th>Fri</th>\n",
              "      <th>Sat</th>\n",
              "      <th>Sun_time</th>\n",
              "      <th>Mon_time</th>\n",
              "      <th>Tues_time</th>\n",
              "      <th>Wed_time</th>\n",
              "      <th>Thurs_time</th>\n",
              "      <th>Fri_time</th>\n",
              "      <th>Sat_time</th>\n",
              "      <th>Num_of_comments</th>\n",
              "    </tr>\n",
              "  </thead>\n",
              "  <tbody>\n",
              "    <tr>\n",
              "      <th>0</th>\n",
              "      <td>1340759</td>\n",
              "      <td>33935</td>\n",
              "      <td>49392</td>\n",
              "      <td>9</td>\n",
              "      <td>0.0</td>\n",
              "      <td>768.0</td>\n",
              "      <td>77.200000</td>\n",
              "      <td>36.5</td>\n",
              "      <td>132.861432</td>\n",
              "      <td>0.0</td>\n",
              "      <td>275.0</td>\n",
              "      <td>28.600000</td>\n",
              "      <td>14.0</td>\n",
              "      <td>45.466911</td>\n",
              "      <td>0.0</td>\n",
              "      <td>716.0</td>\n",
              "      <td>47.825000</td>\n",
              "      <td>0.0</td>\n",
              "      <td>124.050572</td>\n",
              "      <td>0.0</td>\n",
              "      <td>744.0</td>\n",
              "      <td>76.000000</td>\n",
              "      <td>36.5</td>\n",
              "      <td>129.477604</td>\n",
              "      <td>-664.0</td>\n",
              "      <td>275.0</td>\n",
              "      <td>-19.225000</td>\n",
              "      <td>5.0</td>\n",
              "      <td>131.036538</td>\n",
              "      <td>0</td>\n",
              "      <td>0</td>\n",
              "      <td>0</td>\n",
              "      <td>0</td>\n",
              "      <td>0</td>\n",
              "      <td>0</td>\n",
              "      <td>150</td>\n",
              "      <td>23</td>\n",
              "      <td>0</td>\n",
              "      <td>22</td>\n",
              "      <td>0</td>\n",
              "      <td>0</td>\n",
              "      <td>0</td>\n",
              "      <td>0</td>\n",
              "      <td>1</td>\n",
              "      <td>0</td>\n",
              "      <td>0</td>\n",
              "      <td>0</td>\n",
              "      <td>0</td>\n",
              "      <td>0</td>\n",
              "      <td>0</td>\n",
              "      <td>1</td>\n",
              "      <td>0</td>\n",
              "      <td>0</td>\n",
              "      <td>35</td>\n",
              "    </tr>\n",
              "    <tr>\n",
              "      <th>1</th>\n",
              "      <td>161455</td>\n",
              "      <td>0</td>\n",
              "      <td>5978</td>\n",
              "      <td>4</td>\n",
              "      <td>3.0</td>\n",
              "      <td>75.0</td>\n",
              "      <td>22.714286</td>\n",
              "      <td>15.0</td>\n",
              "      <td>23.389340</td>\n",
              "      <td>3.0</td>\n",
              "      <td>75.0</td>\n",
              "      <td>16.857143</td>\n",
              "      <td>6.0</td>\n",
              "      <td>24.109444</td>\n",
              "      <td>0.0</td>\n",
              "      <td>15.0</td>\n",
              "      <td>4.142857</td>\n",
              "      <td>0.0</td>\n",
              "      <td>5.488392</td>\n",
              "      <td>3.0</td>\n",
              "      <td>75.0</td>\n",
              "      <td>21.142857</td>\n",
              "      <td>12.0</td>\n",
              "      <td>23.295791</td>\n",
              "      <td>-10.0</td>\n",
              "      <td>75.0</td>\n",
              "      <td>12.714286</td>\n",
              "      <td>5.0</td>\n",
              "      <td>26.266297</td>\n",
              "      <td>22</td>\n",
              "      <td>17</td>\n",
              "      <td>5</td>\n",
              "      <td>20</td>\n",
              "      <td>12</td>\n",
              "      <td>28</td>\n",
              "      <td>20</td>\n",
              "      <td>1</td>\n",
              "      <td>0</td>\n",
              "      <td>24</td>\n",
              "      <td>0</td>\n",
              "      <td>0</td>\n",
              "      <td>0</td>\n",
              "      <td>0</td>\n",
              "      <td>0</td>\n",
              "      <td>1</td>\n",
              "      <td>0</td>\n",
              "      <td>0</td>\n",
              "      <td>0</td>\n",
              "      <td>0</td>\n",
              "      <td>0</td>\n",
              "      <td>0</td>\n",
              "      <td>0</td>\n",
              "      <td>1</td>\n",
              "      <td>2</td>\n",
              "    </tr>\n",
              "    <tr>\n",
              "      <th>2</th>\n",
              "      <td>92385</td>\n",
              "      <td>88</td>\n",
              "      <td>34785</td>\n",
              "      <td>70</td>\n",
              "      <td>0.0</td>\n",
              "      <td>0.0</td>\n",
              "      <td>0.000000</td>\n",
              "      <td>0.0</td>\n",
              "      <td>0.000000</td>\n",
              "      <td>0.0</td>\n",
              "      <td>0.0</td>\n",
              "      <td>0.000000</td>\n",
              "      <td>0.0</td>\n",
              "      <td>0.000000</td>\n",
              "      <td>0.0</td>\n",
              "      <td>0.0</td>\n",
              "      <td>0.000000</td>\n",
              "      <td>0.0</td>\n",
              "      <td>0.000000</td>\n",
              "      <td>0.0</td>\n",
              "      <td>0.0</td>\n",
              "      <td>0.000000</td>\n",
              "      <td>0.0</td>\n",
              "      <td>0.000000</td>\n",
              "      <td>0.0</td>\n",
              "      <td>0.0</td>\n",
              "      <td>0.000000</td>\n",
              "      <td>0.0</td>\n",
              "      <td>0.000000</td>\n",
              "      <td>0</td>\n",
              "      <td>0</td>\n",
              "      <td>0</td>\n",
              "      <td>0</td>\n",
              "      <td>0</td>\n",
              "      <td>32</td>\n",
              "      <td>182</td>\n",
              "      <td>1</td>\n",
              "      <td>0</td>\n",
              "      <td>24</td>\n",
              "      <td>0</td>\n",
              "      <td>0</td>\n",
              "      <td>0</td>\n",
              "      <td>0</td>\n",
              "      <td>1</td>\n",
              "      <td>0</td>\n",
              "      <td>0</td>\n",
              "      <td>0</td>\n",
              "      <td>0</td>\n",
              "      <td>0</td>\n",
              "      <td>0</td>\n",
              "      <td>0</td>\n",
              "      <td>0</td>\n",
              "      <td>1</td>\n",
              "      <td>0</td>\n",
              "    </tr>\n",
              "    <tr>\n",
              "      <th>3</th>\n",
              "      <td>395272</td>\n",
              "      <td>0</td>\n",
              "      <td>3406</td>\n",
              "      <td>17</td>\n",
              "      <td>0.0</td>\n",
              "      <td>22.0</td>\n",
              "      <td>4.000000</td>\n",
              "      <td>1.0</td>\n",
              "      <td>6.599663</td>\n",
              "      <td>0.0</td>\n",
              "      <td>22.0</td>\n",
              "      <td>3.111111</td>\n",
              "      <td>1.0</td>\n",
              "      <td>6.740334</td>\n",
              "      <td>0.0</td>\n",
              "      <td>2.0</td>\n",
              "      <td>0.222222</td>\n",
              "      <td>0.0</td>\n",
              "      <td>0.628539</td>\n",
              "      <td>0.0</td>\n",
              "      <td>22.0</td>\n",
              "      <td>3.888889</td>\n",
              "      <td>1.0</td>\n",
              "      <td>6.573422</td>\n",
              "      <td>-2.0</td>\n",
              "      <td>22.0</td>\n",
              "      <td>2.888889</td>\n",
              "      <td>1.0</td>\n",
              "      <td>6.870944</td>\n",
              "      <td>0</td>\n",
              "      <td>0</td>\n",
              "      <td>0</td>\n",
              "      <td>0</td>\n",
              "      <td>0</td>\n",
              "      <td>30</td>\n",
              "      <td>207</td>\n",
              "      <td>1</td>\n",
              "      <td>0</td>\n",
              "      <td>20</td>\n",
              "      <td>0</td>\n",
              "      <td>0</td>\n",
              "      <td>0</td>\n",
              "      <td>0</td>\n",
              "      <td>0</td>\n",
              "      <td>0</td>\n",
              "      <td>1</td>\n",
              "      <td>1</td>\n",
              "      <td>0</td>\n",
              "      <td>0</td>\n",
              "      <td>0</td>\n",
              "      <td>0</td>\n",
              "      <td>0</td>\n",
              "      <td>0</td>\n",
              "      <td>0</td>\n",
              "    </tr>\n",
              "    <tr>\n",
              "      <th>4</th>\n",
              "      <td>4349418</td>\n",
              "      <td>0</td>\n",
              "      <td>614043</td>\n",
              "      <td>9</td>\n",
              "      <td>0.0</td>\n",
              "      <td>958.0</td>\n",
              "      <td>65.974194</td>\n",
              "      <td>24.0</td>\n",
              "      <td>126.960748</td>\n",
              "      <td>0.0</td>\n",
              "      <td>787.0</td>\n",
              "      <td>61.096774</td>\n",
              "      <td>22.0</td>\n",
              "      <td>112.517169</td>\n",
              "      <td>0.0</td>\n",
              "      <td>371.0</td>\n",
              "      <td>4.877419</td>\n",
              "      <td>0.0</td>\n",
              "      <td>33.678238</td>\n",
              "      <td>0.0</td>\n",
              "      <td>912.0</td>\n",
              "      <td>65.587097</td>\n",
              "      <td>24.0</td>\n",
              "      <td>124.844202</td>\n",
              "      <td>-126.0</td>\n",
              "      <td>787.0</td>\n",
              "      <td>56.219355</td>\n",
              "      <td>21.0</td>\n",
              "      <td>107.096415</td>\n",
              "      <td>19</td>\n",
              "      <td>19</td>\n",
              "      <td>0</td>\n",
              "      <td>19</td>\n",
              "      <td>19</td>\n",
              "      <td>13</td>\n",
              "      <td>148</td>\n",
              "      <td>21</td>\n",
              "      <td>0</td>\n",
              "      <td>6</td>\n",
              "      <td>0</td>\n",
              "      <td>0</td>\n",
              "      <td>0</td>\n",
              "      <td>0</td>\n",
              "      <td>0</td>\n",
              "      <td>0</td>\n",
              "      <td>1</td>\n",
              "      <td>1</td>\n",
              "      <td>0</td>\n",
              "      <td>0</td>\n",
              "      <td>0</td>\n",
              "      <td>0</td>\n",
              "      <td>0</td>\n",
              "      <td>0</td>\n",
              "      <td>0</td>\n",
              "    </tr>\n",
              "  </tbody>\n",
              "</table>\n",
              "</div>"
            ],
            "text/plain": [
              "   Page_likes  Page_views  Daily_visitors  ...  Fri_time  Sat_time  Num_of_comments\n",
              "0     1340759       33935           49392  ...         0         0               35\n",
              "1      161455           0            5978  ...         0         1                2\n",
              "2       92385          88           34785  ...         0         1                0\n",
              "3      395272           0            3406  ...         0         0                0\n",
              "4     4349418           0          614043  ...         0         0                0\n",
              "\n",
              "[5 rows x 54 columns]"
            ]
          },
          "metadata": {
            "tags": []
          },
          "execution_count": 15
        }
      ]
    },
    {
      "cell_type": "code",
      "metadata": {
        "colab": {
          "base_uri": "https://localhost:8080/"
        },
        "id": "lIPTSFw-HXYP",
        "outputId": "1cd9828b-8d8f-4b0a-ed32-490d3c66685a"
      },
      "source": [
        "test_data.info()"
      ],
      "execution_count": 16,
      "outputs": [
        {
          "output_type": "stream",
          "text": [
            "<class 'pandas.core.frame.DataFrame'>\n",
            "RangeIndex: 1000 entries, 0 to 999\n",
            "Data columns (total 54 columns):\n",
            " #   Column                 Non-Null Count  Dtype  \n",
            "---  ------                 --------------  -----  \n",
            " 0   Page_likes             1000 non-null   int64  \n",
            " 1   Page_views             1000 non-null   int64  \n",
            " 2   Daily_visitors         1000 non-null   int64  \n",
            " 3   page_type              1000 non-null   int64  \n",
            " 4   der_1                  1000 non-null   float64\n",
            " 5   der_2                  1000 non-null   float64\n",
            " 6   der_3                  1000 non-null   float64\n",
            " 7   der_4                  1000 non-null   float64\n",
            " 8   der_5                  1000 non-null   float64\n",
            " 9   der_6                  1000 non-null   float64\n",
            " 10  der_7                  1000 non-null   float64\n",
            " 11  der_8                  1000 non-null   float64\n",
            " 12  der_9                  1000 non-null   float64\n",
            " 13  der_10                 1000 non-null   float64\n",
            " 14  der_11                 1000 non-null   float64\n",
            " 15  der_12                 1000 non-null   float64\n",
            " 16  der_13                 1000 non-null   float64\n",
            " 17  der_14                 1000 non-null   float64\n",
            " 18  der_15                 1000 non-null   float64\n",
            " 19  der_16                 1000 non-null   float64\n",
            " 20  der_17                 1000 non-null   float64\n",
            " 21  der_18                 1000 non-null   float64\n",
            " 22  der_19                 1000 non-null   float64\n",
            " 23  der_20                 1000 non-null   float64\n",
            " 24  der_21                 1000 non-null   float64\n",
            " 25  der_22                 1000 non-null   float64\n",
            " 26  der_23                 1000 non-null   float64\n",
            " 27  der_24                 1000 non-null   float64\n",
            " 28  der_25                 1000 non-null   float64\n",
            " 29  CC1                    1000 non-null   int64  \n",
            " 30  CC2                    1000 non-null   int64  \n",
            " 31  CC3                    1000 non-null   int64  \n",
            " 32  CC4                    1000 non-null   int64  \n",
            " 33  CC5                    1000 non-null   int64  \n",
            " 34  Base_time              1000 non-null   int64  \n",
            " 35  Post_length            1000 non-null   int64  \n",
            " 36  Post_share_count       1000 non-null   int64  \n",
            " 37  Post_promotion_status  1000 non-null   int64  \n",
            " 38  H                      1000 non-null   int64  \n",
            " 39  Sun                    1000 non-null   int64  \n",
            " 40  Mon                    1000 non-null   int64  \n",
            " 41  Tues                   1000 non-null   int64  \n",
            " 42  Wed                    1000 non-null   int64  \n",
            " 43  Thurs                  1000 non-null   int64  \n",
            " 44  Fri                    1000 non-null   int64  \n",
            " 45  Sat                    1000 non-null   int64  \n",
            " 46  Sun_time               1000 non-null   int64  \n",
            " 47  Mon_time               1000 non-null   int64  \n",
            " 48  Tues_time              1000 non-null   int64  \n",
            " 49  Wed_time               1000 non-null   int64  \n",
            " 50  Thurs_time             1000 non-null   int64  \n",
            " 51  Fri_time               1000 non-null   int64  \n",
            " 52  Sat_time               1000 non-null   int64  \n",
            " 53  Num_of_comments        1000 non-null   int64  \n",
            "dtypes: float64(25), int64(29)\n",
            "memory usage: 422.0 KB\n"
          ],
          "name": "stdout"
        }
      ]
    },
    {
      "cell_type": "code",
      "metadata": {
        "colab": {
          "base_uri": "https://localhost:8080/",
          "height": 304
        },
        "id": "k2pu-7PXHouK",
        "outputId": "dcf75049-599d-4c22-acfb-0ccdcda0a9dc"
      },
      "source": [
        "test_data.describe()"
      ],
      "execution_count": 17,
      "outputs": [
        {
          "output_type": "execute_result",
          "data": {
            "text/html": [
              "<div>\n",
              "<style scoped>\n",
              "    .dataframe tbody tr th:only-of-type {\n",
              "        vertical-align: middle;\n",
              "    }\n",
              "\n",
              "    .dataframe tbody tr th {\n",
              "        vertical-align: top;\n",
              "    }\n",
              "\n",
              "    .dataframe thead th {\n",
              "        text-align: right;\n",
              "    }\n",
              "</style>\n",
              "<table border=\"1\" class=\"dataframe\">\n",
              "  <thead>\n",
              "    <tr style=\"text-align: right;\">\n",
              "      <th></th>\n",
              "      <th>Page_likes</th>\n",
              "      <th>Page_views</th>\n",
              "      <th>Daily_visitors</th>\n",
              "      <th>page_type</th>\n",
              "      <th>der_1</th>\n",
              "      <th>der_2</th>\n",
              "      <th>der_3</th>\n",
              "      <th>der_4</th>\n",
              "      <th>der_5</th>\n",
              "      <th>der_6</th>\n",
              "      <th>der_7</th>\n",
              "      <th>der_8</th>\n",
              "      <th>der_9</th>\n",
              "      <th>der_10</th>\n",
              "      <th>der_11</th>\n",
              "      <th>der_12</th>\n",
              "      <th>der_13</th>\n",
              "      <th>der_14</th>\n",
              "      <th>der_15</th>\n",
              "      <th>der_16</th>\n",
              "      <th>der_17</th>\n",
              "      <th>der_18</th>\n",
              "      <th>der_19</th>\n",
              "      <th>der_20</th>\n",
              "      <th>der_21</th>\n",
              "      <th>der_22</th>\n",
              "      <th>der_23</th>\n",
              "      <th>der_24</th>\n",
              "      <th>der_25</th>\n",
              "      <th>CC1</th>\n",
              "      <th>CC2</th>\n",
              "      <th>CC3</th>\n",
              "      <th>CC4</th>\n",
              "      <th>CC5</th>\n",
              "      <th>Base_time</th>\n",
              "      <th>Post_length</th>\n",
              "      <th>Post_share_count</th>\n",
              "      <th>Post_promotion_status</th>\n",
              "      <th>H</th>\n",
              "      <th>Sun</th>\n",
              "      <th>Mon</th>\n",
              "      <th>Tues</th>\n",
              "      <th>Wed</th>\n",
              "      <th>Thurs</th>\n",
              "      <th>Fri</th>\n",
              "      <th>Sat</th>\n",
              "      <th>Sun_time</th>\n",
              "      <th>Mon_time</th>\n",
              "      <th>Tues_time</th>\n",
              "      <th>Wed_time</th>\n",
              "      <th>Thurs_time</th>\n",
              "      <th>Fri_time</th>\n",
              "      <th>Sat_time</th>\n",
              "      <th>Num_of_comments</th>\n",
              "    </tr>\n",
              "  </thead>\n",
              "  <tbody>\n",
              "    <tr>\n",
              "      <th>count</th>\n",
              "      <td>1.000000e+03</td>\n",
              "      <td>1.000000e+03</td>\n",
              "      <td>1.000000e+03</td>\n",
              "      <td>1000.000000</td>\n",
              "      <td>1000.000000</td>\n",
              "      <td>1000.000000</td>\n",
              "      <td>1000.000000</td>\n",
              "      <td>1000.000000</td>\n",
              "      <td>1000.000000</td>\n",
              "      <td>1000.00000</td>\n",
              "      <td>1000.000000</td>\n",
              "      <td>1000.000000</td>\n",
              "      <td>1000.000000</td>\n",
              "      <td>1000.000000</td>\n",
              "      <td>1000.000000</td>\n",
              "      <td>1000.000000</td>\n",
              "      <td>1000.000000</td>\n",
              "      <td>1000.00000</td>\n",
              "      <td>1000.000000</td>\n",
              "      <td>1000.000000</td>\n",
              "      <td>1000.000000</td>\n",
              "      <td>1000.000000</td>\n",
              "      <td>1000.000000</td>\n",
              "      <td>1000.000000</td>\n",
              "      <td>1000.000000</td>\n",
              "      <td>1000.000000</td>\n",
              "      <td>1000.000000</td>\n",
              "      <td>1000.00000</td>\n",
              "      <td>1000.000000</td>\n",
              "      <td>1000.000000</td>\n",
              "      <td>1000.000000</td>\n",
              "      <td>1000.000000</td>\n",
              "      <td>1000.000000</td>\n",
              "      <td>1000.000000</td>\n",
              "      <td>1000.000000</td>\n",
              "      <td>1000.000000</td>\n",
              "      <td>1000.000000</td>\n",
              "      <td>1000.0</td>\n",
              "      <td>1000.000000</td>\n",
              "      <td>1000.000000</td>\n",
              "      <td>1000.000000</td>\n",
              "      <td>1000.0</td>\n",
              "      <td>1000.0</td>\n",
              "      <td>1000.000000</td>\n",
              "      <td>1000.00000</td>\n",
              "      <td>1000.000000</td>\n",
              "      <td>1000.000000</td>\n",
              "      <td>1000.000000</td>\n",
              "      <td>1000.0</td>\n",
              "      <td>1000.0</td>\n",
              "      <td>1000.000000</td>\n",
              "      <td>1000.00000</td>\n",
              "      <td>1000.000000</td>\n",
              "      <td>1000.000000</td>\n",
              "    </tr>\n",
              "    <tr>\n",
              "      <th>mean</th>\n",
              "      <td>3.817063e+06</td>\n",
              "      <td>5.355491e+03</td>\n",
              "      <td>2.697175e+05</td>\n",
              "      <td>21.877000</td>\n",
              "      <td>8.931000</td>\n",
              "      <td>697.212000</td>\n",
              "      <td>96.942582</td>\n",
              "      <td>57.087500</td>\n",
              "      <td>124.455800</td>\n",
              "      <td>4.42500</td>\n",
              "      <td>580.730000</td>\n",
              "      <td>69.198961</td>\n",
              "      <td>39.584000</td>\n",
              "      <td>99.921873</td>\n",
              "      <td>1.545000</td>\n",
              "      <td>277.445000</td>\n",
              "      <td>22.796167</td>\n",
              "      <td>3.20850</td>\n",
              "      <td>49.364945</td>\n",
              "      <td>8.659000</td>\n",
              "      <td>671.022000</td>\n",
              "      <td>94.131895</td>\n",
              "      <td>55.928500</td>\n",
              "      <td>120.042634</td>\n",
              "      <td>-200.494000</td>\n",
              "      <td>568.292000</td>\n",
              "      <td>46.402794</td>\n",
              "      <td>28.12450</td>\n",
              "      <td>116.832214</td>\n",
              "      <td>101.405000</td>\n",
              "      <td>73.175000</td>\n",
              "      <td>24.724000</td>\n",
              "      <td>98.207000</td>\n",
              "      <td>48.451000</td>\n",
              "      <td>17.810000</td>\n",
              "      <td>154.684000</td>\n",
              "      <td>118.210000</td>\n",
              "      <td>0.0</td>\n",
              "      <td>14.610000</td>\n",
              "      <td>0.198000</td>\n",
              "      <td>0.072000</td>\n",
              "      <td>0.0</td>\n",
              "      <td>0.0</td>\n",
              "      <td>0.253000</td>\n",
              "      <td>0.24900</td>\n",
              "      <td>0.228000</td>\n",
              "      <td>0.335000</td>\n",
              "      <td>0.196000</td>\n",
              "      <td>0.0</td>\n",
              "      <td>0.0</td>\n",
              "      <td>0.082000</td>\n",
              "      <td>0.18300</td>\n",
              "      <td>0.204000</td>\n",
              "      <td>26.585000</td>\n",
              "    </tr>\n",
              "    <tr>\n",
              "      <th>std</th>\n",
              "      <td>8.887487e+06</td>\n",
              "      <td>4.103948e+04</td>\n",
              "      <td>4.965384e+05</td>\n",
              "      <td>20.646214</td>\n",
              "      <td>73.098698</td>\n",
              "      <td>812.417535</td>\n",
              "      <td>161.434780</td>\n",
              "      <td>131.048897</td>\n",
              "      <td>151.599834</td>\n",
              "      <td>55.24841</td>\n",
              "      <td>726.180408</td>\n",
              "      <td>122.118358</td>\n",
              "      <td>105.718186</td>\n",
              "      <td>127.046240</td>\n",
              "      <td>27.003429</td>\n",
              "      <td>445.905709</td>\n",
              "      <td>53.450916</td>\n",
              "      <td>32.13294</td>\n",
              "      <td>83.050378</td>\n",
              "      <td>71.496451</td>\n",
              "      <td>777.821777</td>\n",
              "      <td>156.342716</td>\n",
              "      <td>128.384425</td>\n",
              "      <td>144.743523</td>\n",
              "      <td>358.613999</td>\n",
              "      <td>723.239447</td>\n",
              "      <td>107.841176</td>\n",
              "      <td>98.80609</td>\n",
              "      <td>147.502305</td>\n",
              "      <td>298.458209</td>\n",
              "      <td>229.546536</td>\n",
              "      <td>137.597358</td>\n",
              "      <td>285.763989</td>\n",
              "      <td>240.356254</td>\n",
              "      <td>16.664561</td>\n",
              "      <td>366.490474</td>\n",
              "      <td>333.710684</td>\n",
              "      <td>0.0</td>\n",
              "      <td>8.992039</td>\n",
              "      <td>0.398692</td>\n",
              "      <td>0.258617</td>\n",
              "      <td>0.0</td>\n",
              "      <td>0.0</td>\n",
              "      <td>0.434948</td>\n",
              "      <td>0.43265</td>\n",
              "      <td>0.419753</td>\n",
              "      <td>0.472227</td>\n",
              "      <td>0.397167</td>\n",
              "      <td>0.0</td>\n",
              "      <td>0.0</td>\n",
              "      <td>0.274502</td>\n",
              "      <td>0.38686</td>\n",
              "      <td>0.403171</td>\n",
              "      <td>104.760381</td>\n",
              "    </tr>\n",
              "    <tr>\n",
              "      <th>min</th>\n",
              "      <td>4.233000e+03</td>\n",
              "      <td>0.000000e+00</td>\n",
              "      <td>0.000000e+00</td>\n",
              "      <td>1.000000</td>\n",
              "      <td>0.000000</td>\n",
              "      <td>0.000000</td>\n",
              "      <td>0.000000</td>\n",
              "      <td>0.000000</td>\n",
              "      <td>0.000000</td>\n",
              "      <td>0.00000</td>\n",
              "      <td>0.000000</td>\n",
              "      <td>0.000000</td>\n",
              "      <td>0.000000</td>\n",
              "      <td>0.000000</td>\n",
              "      <td>0.000000</td>\n",
              "      <td>0.000000</td>\n",
              "      <td>0.000000</td>\n",
              "      <td>0.00000</td>\n",
              "      <td>0.000000</td>\n",
              "      <td>0.000000</td>\n",
              "      <td>0.000000</td>\n",
              "      <td>0.000000</td>\n",
              "      <td>0.000000</td>\n",
              "      <td>0.000000</td>\n",
              "      <td>-2119.000000</td>\n",
              "      <td>-392.000000</td>\n",
              "      <td>-392.000000</td>\n",
              "      <td>-392.00000</td>\n",
              "      <td>0.000000</td>\n",
              "      <td>0.000000</td>\n",
              "      <td>0.000000</td>\n",
              "      <td>0.000000</td>\n",
              "      <td>0.000000</td>\n",
              "      <td>-1296.000000</td>\n",
              "      <td>0.000000</td>\n",
              "      <td>0.000000</td>\n",
              "      <td>1.000000</td>\n",
              "      <td>0.0</td>\n",
              "      <td>0.000000</td>\n",
              "      <td>0.000000</td>\n",
              "      <td>0.000000</td>\n",
              "      <td>0.0</td>\n",
              "      <td>0.0</td>\n",
              "      <td>0.000000</td>\n",
              "      <td>0.00000</td>\n",
              "      <td>0.000000</td>\n",
              "      <td>0.000000</td>\n",
              "      <td>0.000000</td>\n",
              "      <td>0.0</td>\n",
              "      <td>0.0</td>\n",
              "      <td>0.000000</td>\n",
              "      <td>0.00000</td>\n",
              "      <td>0.000000</td>\n",
              "      <td>0.000000</td>\n",
              "    </tr>\n",
              "    <tr>\n",
              "      <th>25%</th>\n",
              "      <td>5.182470e+05</td>\n",
              "      <td>0.000000e+00</td>\n",
              "      <td>2.314825e+04</td>\n",
              "      <td>9.000000</td>\n",
              "      <td>0.000000</td>\n",
              "      <td>56.500000</td>\n",
              "      <td>11.166667</td>\n",
              "      <td>5.500000</td>\n",
              "      <td>12.211437</td>\n",
              "      <td>0.00000</td>\n",
              "      <td>38.000000</td>\n",
              "      <td>8.000000</td>\n",
              "      <td>3.000000</td>\n",
              "      <td>9.742182</td>\n",
              "      <td>0.000000</td>\n",
              "      <td>11.750000</td>\n",
              "      <td>1.111111</td>\n",
              "      <td>0.00000</td>\n",
              "      <td>2.748737</td>\n",
              "      <td>0.000000</td>\n",
              "      <td>53.500000</td>\n",
              "      <td>10.833333</td>\n",
              "      <td>5.000000</td>\n",
              "      <td>11.473208</td>\n",
              "      <td>-183.500000</td>\n",
              "      <td>36.000000</td>\n",
              "      <td>3.277778</td>\n",
              "      <td>1.00000</td>\n",
              "      <td>11.495131</td>\n",
              "      <td>3.000000</td>\n",
              "      <td>1.000000</td>\n",
              "      <td>0.000000</td>\n",
              "      <td>3.000000</td>\n",
              "      <td>0.000000</td>\n",
              "      <td>4.000000</td>\n",
              "      <td>48.000000</td>\n",
              "      <td>3.000000</td>\n",
              "      <td>0.0</td>\n",
              "      <td>6.000000</td>\n",
              "      <td>0.000000</td>\n",
              "      <td>0.000000</td>\n",
              "      <td>0.0</td>\n",
              "      <td>0.0</td>\n",
              "      <td>0.000000</td>\n",
              "      <td>0.00000</td>\n",
              "      <td>0.000000</td>\n",
              "      <td>0.000000</td>\n",
              "      <td>0.000000</td>\n",
              "      <td>0.0</td>\n",
              "      <td>0.0</td>\n",
              "      <td>0.000000</td>\n",
              "      <td>0.00000</td>\n",
              "      <td>0.000000</td>\n",
              "      <td>0.000000</td>\n",
              "    </tr>\n",
              "    <tr>\n",
              "      <th>50%</th>\n",
              "      <td>1.445497e+06</td>\n",
              "      <td>0.000000e+00</td>\n",
              "      <td>7.863500e+04</td>\n",
              "      <td>16.000000</td>\n",
              "      <td>0.000000</td>\n",
              "      <td>307.000000</td>\n",
              "      <td>53.964286</td>\n",
              "      <td>20.000000</td>\n",
              "      <td>67.123676</td>\n",
              "      <td>0.00000</td>\n",
              "      <td>215.000000</td>\n",
              "      <td>35.790210</td>\n",
              "      <td>13.000000</td>\n",
              "      <td>51.511261</td>\n",
              "      <td>0.000000</td>\n",
              "      <td>64.500000</td>\n",
              "      <td>4.877419</td>\n",
              "      <td>0.00000</td>\n",
              "      <td>16.181712</td>\n",
              "      <td>0.000000</td>\n",
              "      <td>307.000000</td>\n",
              "      <td>52.809524</td>\n",
              "      <td>19.000000</td>\n",
              "      <td>66.076105</td>\n",
              "      <td>-45.000000</td>\n",
              "      <td>194.000000</td>\n",
              "      <td>19.750000</td>\n",
              "      <td>7.00000</td>\n",
              "      <td>67.506316</td>\n",
              "      <td>18.000000</td>\n",
              "      <td>9.500000</td>\n",
              "      <td>0.000000</td>\n",
              "      <td>17.000000</td>\n",
              "      <td>5.000000</td>\n",
              "      <td>13.000000</td>\n",
              "      <td>97.500000</td>\n",
              "      <td>19.500000</td>\n",
              "      <td>0.0</td>\n",
              "      <td>16.000000</td>\n",
              "      <td>0.000000</td>\n",
              "      <td>0.000000</td>\n",
              "      <td>0.0</td>\n",
              "      <td>0.0</td>\n",
              "      <td>0.000000</td>\n",
              "      <td>0.00000</td>\n",
              "      <td>0.000000</td>\n",
              "      <td>0.000000</td>\n",
              "      <td>0.000000</td>\n",
              "      <td>0.0</td>\n",
              "      <td>0.0</td>\n",
              "      <td>0.000000</td>\n",
              "      <td>0.00000</td>\n",
              "      <td>0.000000</td>\n",
              "      <td>2.000000</td>\n",
              "    </tr>\n",
              "    <tr>\n",
              "      <th>75%</th>\n",
              "      <td>4.290409e+06</td>\n",
              "      <td>1.925000e+01</td>\n",
              "      <td>2.775470e+05</td>\n",
              "      <td>27.000000</td>\n",
              "      <td>0.000000</td>\n",
              "      <td>1128.000000</td>\n",
              "      <td>118.228571</td>\n",
              "      <td>56.125000</td>\n",
              "      <td>199.593566</td>\n",
              "      <td>0.00000</td>\n",
              "      <td>937.000000</td>\n",
              "      <td>81.880658</td>\n",
              "      <td>34.000000</td>\n",
              "      <td>161.917770</td>\n",
              "      <td>0.000000</td>\n",
              "      <td>340.500000</td>\n",
              "      <td>24.653846</td>\n",
              "      <td>0.00000</td>\n",
              "      <td>62.521132</td>\n",
              "      <td>0.000000</td>\n",
              "      <td>999.000000</td>\n",
              "      <td>118.062500</td>\n",
              "      <td>55.250000</td>\n",
              "      <td>199.259019</td>\n",
              "      <td>-7.000000</td>\n",
              "      <td>898.250000</td>\n",
              "      <td>66.000000</td>\n",
              "      <td>22.00000</td>\n",
              "      <td>201.629992</td>\n",
              "      <td>69.000000</td>\n",
              "      <td>49.250000</td>\n",
              "      <td>0.000000</td>\n",
              "      <td>68.000000</td>\n",
              "      <td>39.000000</td>\n",
              "      <td>28.000000</td>\n",
              "      <td>161.000000</td>\n",
              "      <td>76.000000</td>\n",
              "      <td>0.0</td>\n",
              "      <td>24.000000</td>\n",
              "      <td>0.000000</td>\n",
              "      <td>0.000000</td>\n",
              "      <td>0.0</td>\n",
              "      <td>0.0</td>\n",
              "      <td>1.000000</td>\n",
              "      <td>0.00000</td>\n",
              "      <td>0.000000</td>\n",
              "      <td>1.000000</td>\n",
              "      <td>0.000000</td>\n",
              "      <td>0.0</td>\n",
              "      <td>0.0</td>\n",
              "      <td>0.000000</td>\n",
              "      <td>0.00000</td>\n",
              "      <td>0.000000</td>\n",
              "      <td>12.250000</td>\n",
              "    </tr>\n",
              "    <tr>\n",
              "      <th>max</th>\n",
              "      <td>7.260619e+07</td>\n",
              "      <td>1.100558e+06</td>\n",
              "      <td>6.784263e+06</td>\n",
              "      <td>104.000000</td>\n",
              "      <td>1610.000000</td>\n",
              "      <td>2858.000000</td>\n",
              "      <td>1610.000000</td>\n",
              "      <td>1610.000000</td>\n",
              "      <td>1101.000000</td>\n",
              "      <td>1610.00000</td>\n",
              "      <td>2783.000000</td>\n",
              "      <td>1610.000000</td>\n",
              "      <td>1610.000000</td>\n",
              "      <td>1101.000000</td>\n",
              "      <td>697.000000</td>\n",
              "      <td>2455.000000</td>\n",
              "      <td>697.000000</td>\n",
              "      <td>697.00000</td>\n",
              "      <td>748.964012</td>\n",
              "      <td>1610.000000</td>\n",
              "      <td>2783.000000</td>\n",
              "      <td>1610.000000</td>\n",
              "      <td>1610.000000</td>\n",
              "      <td>1101.000000</td>\n",
              "      <td>1610.000000</td>\n",
              "      <td>2783.000000</td>\n",
              "      <td>1610.000000</td>\n",
              "      <td>1610.00000</td>\n",
              "      <td>1330.269469</td>\n",
              "      <td>2783.000000</td>\n",
              "      <td>2783.000000</td>\n",
              "      <td>1810.000000</td>\n",
              "      <td>2783.000000</td>\n",
              "      <td>2783.000000</td>\n",
              "      <td>72.000000</td>\n",
              "      <td>5858.000000</td>\n",
              "      <td>3895.000000</td>\n",
              "      <td>0.0</td>\n",
              "      <td>24.000000</td>\n",
              "      <td>1.000000</td>\n",
              "      <td>1.000000</td>\n",
              "      <td>0.0</td>\n",
              "      <td>0.0</td>\n",
              "      <td>1.000000</td>\n",
              "      <td>1.00000</td>\n",
              "      <td>1.000000</td>\n",
              "      <td>1.000000</td>\n",
              "      <td>1.000000</td>\n",
              "      <td>0.0</td>\n",
              "      <td>0.0</td>\n",
              "      <td>1.000000</td>\n",
              "      <td>1.00000</td>\n",
              "      <td>1.000000</td>\n",
              "      <td>2136.000000</td>\n",
              "    </tr>\n",
              "  </tbody>\n",
              "</table>\n",
              "</div>"
            ],
            "text/plain": [
              "         Page_likes    Page_views  ...     Sat_time  Num_of_comments\n",
              "count  1.000000e+03  1.000000e+03  ...  1000.000000      1000.000000\n",
              "mean   3.817063e+06  5.355491e+03  ...     0.204000        26.585000\n",
              "std    8.887487e+06  4.103948e+04  ...     0.403171       104.760381\n",
              "min    4.233000e+03  0.000000e+00  ...     0.000000         0.000000\n",
              "25%    5.182470e+05  0.000000e+00  ...     0.000000         0.000000\n",
              "50%    1.445497e+06  0.000000e+00  ...     0.000000         2.000000\n",
              "75%    4.290409e+06  1.925000e+01  ...     0.000000        12.250000\n",
              "max    7.260619e+07  1.100558e+06  ...     1.000000      2136.000000\n",
              "\n",
              "[8 rows x 54 columns]"
            ]
          },
          "metadata": {
            "tags": []
          },
          "execution_count": 17
        }
      ]
    },
    {
      "cell_type": "code",
      "metadata": {
        "colab": {
          "base_uri": "https://localhost:8080/",
          "height": 353
        },
        "id": "RUHVPgCIOT79",
        "outputId": "89b21d09-1979-4824-d490-40a93fea63fe"
      },
      "source": [
        "sns.distplot(test_data['Num_of_comments'])"
      ],
      "execution_count": 18,
      "outputs": [
        {
          "output_type": "stream",
          "text": [
            "/usr/local/lib/python3.6/dist-packages/seaborn/distributions.py:2557: FutureWarning: `distplot` is a deprecated function and will be removed in a future version. Please adapt your code to use either `displot` (a figure-level function with similar flexibility) or `histplot` (an axes-level function for histograms).\n",
            "  warnings.warn(msg, FutureWarning)\n"
          ],
          "name": "stderr"
        },
        {
          "output_type": "execute_result",
          "data": {
            "text/plain": [
              "<matplotlib.axes._subplots.AxesSubplot at 0x7f6e207a7b38>"
            ]
          },
          "metadata": {
            "tags": []
          },
          "execution_count": 18
        },
        {
          "output_type": "display_data",
          "data": {
            "image/png": "[encoded data removed]",
            "text/plain": [
              "<Figure size 432x288 with 1 Axes>"
            ]
          },
          "metadata": {
            "tags": [],
            "needs_background": "light"
          }
        }
      ]
    },
    {
      "cell_type": "code",
      "metadata": {
        "colab": {
          "base_uri": "https://localhost:8080/",
          "height": 299
        },
        "id": "DM04wSlc-qBB",
        "outputId": "302c6d54-8b4d-4d8d-baff-abf57b906518"
      },
      "source": [
        "sns.countplot(x='Post_promotion_status', data=train_data)"
      ],
      "execution_count": 19,
      "outputs": [
        {
          "output_type": "execute_result",
          "data": {
            "text/plain": [
              "<matplotlib.axes._subplots.AxesSubplot at 0x7f6e206574e0>"
            ]
          },
          "metadata": {
            "tags": []
          },
          "execution_count": 19
        },
        {
          "output_type": "display_data",
          "data": {
            "image/png": "[encoded data removed]",
            "text/plain": [
              "<Figure size 432x288 with 1 Axes>"
            ]
          },
          "metadata": {
            "tags": [],
            "needs_background": "light"
          }
        }
      ]
    },
    {
      "cell_type": "code",
      "metadata": {
        "id": "7O475okceuW3"
      },
      "source": [
        "del train_data['Post_promotion_status']\r\n",
        "del test_data['Post_promotion_status']"
      ],
      "execution_count": 20,
      "outputs": []
    },
    {
      "cell_type": "code",
      "metadata": {
        "colab": {
          "base_uri": "https://localhost:8080/",
          "height": 395
        },
        "id": "B87S806V-7uN",
        "outputId": "e5f46432-b730-4144-e521-9879e0f3ddcc"
      },
      "source": [
        "plt.figure(figsize=(9,6))\r\n",
        "sns.heatmap(train_data[['CC1',\t'CC2',\t'CC3',\t'CC4',\t'CC5']].corr(),annot=True)"
      ],
      "execution_count": 21,
      "outputs": [
        {
          "output_type": "execute_result",
          "data": {
            "text/plain": [
              "<matplotlib.axes._subplots.AxesSubplot at 0x7f6e207aceb8>"
            ]
          },
          "metadata": {
            "tags": []
          },
          "execution_count": 21
        },
        {
          "output_type": "display_data",
          "data": {
            "image/png": "[encoded data removed]",
            "text/plain": [
              "<Figure size 648x432 with 2 Axes>"
            ]
          },
          "metadata": {
            "tags": [],
            "needs_background": "light"
          }
        }
      ]
    },
    {
      "cell_type": "code",
      "metadata": {
        "id": "4E6XyeNI-79s"
      },
      "source": [
        "columns_heat =  ['der_1', 'der_2', 'der_3', 'der_4', 'der_5', 'der_6', 'der_7', 'der_8', 'der_9', 'der_10', 'der_11', 'der_12', 'der_13', 'der_14', 'der_15', 'der_16', 'der_17', 'der_18', 'der_19', 'der_20', 'der_21', 'der_22', 'der_23', 'der_24', 'der_25']"
      ],
      "execution_count": 22,
      "outputs": []
    },
    {
      "cell_type": "code",
      "metadata": {
        "colab": {
          "base_uri": "https://localhost:8080/",
          "height": 885
        },
        "id": "U5NF3rFD-76H",
        "outputId": "8a886b9c-8103-4ec7-dc51-ad7935b26230"
      },
      "source": [
        "plt.figure(figsize=(20,15))\r\n",
        "sns.heatmap(train_data[columns_heat].corr().abs(),annot=True)"
      ],
      "execution_count": 23,
      "outputs": [
        {
          "output_type": "execute_result",
          "data": {
            "text/plain": [
              "<matplotlib.axes._subplots.AxesSubplot at 0x7f6e205918d0>"
            ]
          },
          "metadata": {
            "tags": []
          },
          "execution_count": 23
        },
        {
          "output_type": "display_data",
          "data": {
            "image/png": "[encoded data removed]",
            "text/plain": [
              "<Figure size 1440x1080 with 2 Axes>"
            ]
          },
          "metadata": {
            "tags": [],
            "needs_background": "light"
          }
        }
      ]
    },
    {
      "cell_type": "markdown",
      "metadata": {
        "id": "vuZzRPQKJ8Zg"
      },
      "source": [
        "## **Let's make train and test Data for Machine Learning Modeling...**"
      ]
    },
    {
      "cell_type": "code",
      "metadata": {
        "id": "G2o3PNEzOik0"
      },
      "source": [
        "dependent_variable = 'Num_of_comments'"
      ],
      "execution_count": 24,
      "outputs": []
    },
    {
      "cell_type": "code",
      "metadata": {
        "id": "YHlw5LBxOmdb"
      },
      "source": [
        "# Create a list of independent variables\r\n",
        "independent_variables = list(set(train_data.columns.tolist()) - {dependent_variable})"
      ],
      "execution_count": 25,
      "outputs": []
    },
    {
      "cell_type": "code",
      "metadata": {
        "id": "r1wXHnTIO5SK"
      },
      "source": [
        "# Create the data of independent variables\r\n",
        "X_train = train_data[independent_variables].values\r\n",
        "X_test = test_data[independent_variables].values\r\n",
        "# Create the dependent variable data\r\n",
        "y_train = train_data[dependent_variable].values\r\n",
        "y_test = test_data[dependent_variable].values"
      ],
      "execution_count": 26,
      "outputs": []
    },
    {
      "cell_type": "code",
      "metadata": {
        "id": "CctTLEuEHtFF",
        "colab": {
          "base_uri": "https://localhost:8080/"
        },
        "outputId": "03cb68fc-2413-4db7-c76d-310bbb39bba5"
      },
      "source": [
        "X_train.shape,X_test.shape,y_train.shape,y_test.shape"
      ],
      "execution_count": 27,
      "outputs": [
        {
          "output_type": "execute_result",
          "data": {
            "text/plain": [
              "((602813, 52), (1000, 52), (602813,), (1000,))"
            ]
          },
          "metadata": {
            "tags": []
          },
          "execution_count": 27
        }
      ]
    },
    {
      "cell_type": "markdown",
      "metadata": {
        "id": "DwnldOVLQnZy"
      },
      "source": [
        "## **Preprocessing the Data With StandardScaler**"
      ]
    },
    {
      "cell_type": "code",
      "metadata": {
        "id": "3nj3AZQePZTo"
      },
      "source": [
        "from sklearn.preprocessing import StandardScaler\r\n",
        "sc_X = StandardScaler()\r\n",
        "X_train = sc_X.fit_transform(X_train)\r\n",
        "X_test = sc_X.transform(X_test)"
      ],
      "execution_count": 28,
      "outputs": []
    },
    {
      "cell_type": "code",
      "metadata": {
        "colab": {
          "base_uri": "https://localhost:8080/"
        },
        "id": "1qlF7E5rCxsO",
        "outputId": "45ec99d3-9383-42c9-b1da-9ed64c3be7b6"
      },
      "source": [
        "X_train"
      ],
      "execution_count": 29,
      "outputs": [
        {
          "output_type": "execute_result",
          "data": {
            "text/plain": [
              "array([[ 0.18304359,  0.03057281, -1.16577676, ..., -0.6717368 ,\n",
              "         0.00624485, -0.42789617],\n",
              "       [ 0.18304359,  0.03057281, -1.16577676, ..., -0.6717368 ,\n",
              "        -0.08423321, -0.42789617],\n",
              "       [ 0.18304359,  0.03057281, -1.16577676, ..., -0.6717368 ,\n",
              "        -0.08157209, -0.42789617],\n",
              "       ...,\n",
              "       [-2.28122001,  5.20713642, -0.76460081, ...,  3.30452823,\n",
              "        -0.40356755, -0.42789617],\n",
              "       [-2.28122001,  5.20713642, -0.76460081, ...,  3.30452823,\n",
              "        -0.03899418,  2.33701552],\n",
              "       [-2.28122001,  5.20713642, -0.76460081, ...,  3.30452823,\n",
              "        -0.11616665, -0.42789617]])"
            ]
          },
          "metadata": {
            "tags": []
          },
          "execution_count": 29
        }
      ]
    },
    {
      "cell_type": "markdown",
      "metadata": {
        "id": "GNrQv9i7Q1Oq"
      },
      "source": [
        "## Let's Apply Linear Regression"
      ]
    },
    {
      "cell_type": "code",
      "metadata": {
        "id": "eS6AtlLLQyS8"
      },
      "source": [
        "from sklearn.linear_model import LinearRegression,Lasso,Ridge\r\n",
        "from sklearn.metrics import r2_score,mean_absolute_error,mean_squared_error"
      ],
      "execution_count": 37,
      "outputs": []
    },
    {
      "cell_type": "code",
      "metadata": {
        "colab": {
          "base_uri": "https://localhost:8080/"
        },
        "id": "ySS6ZSWeRRcW",
        "outputId": "9ff287da-5208-4768-92b3-23bce1a16620"
      },
      "source": [
        "regressor = LinearRegression()\r\n",
        "regressor.fit(X_train, y_train)"
      ],
      "execution_count": null,
      "outputs": [
        {
          "output_type": "execute_result",
          "data": {
            "text/plain": [
              "LinearRegression(copy_X=True, fit_intercept=True, n_jobs=None, normalize=False)"
            ]
          },
          "metadata": {
            "tags": []
          },
          "execution_count": 152
        }
      ]
    },
    {
      "cell_type": "code",
      "metadata": {
        "id": "IOr7H1LkRRY7"
      },
      "source": [
        "# Predicting the Test set results\r\n",
        "y_pred=regressor.predict(X_test)\r\n",
        "y_pred_train = regressor.predict(X_train)"
      ],
      "execution_count": null,
      "outputs": []
    },
    {
      "cell_type": "code",
      "metadata": {
        "colab": {
          "base_uri": "https://localhost:8080/"
        },
        "id": "YDjUUZxeR4Ln",
        "outputId": "ca822cdd-d2ac-4569-84c7-b0f54c87f873"
      },
      "source": [
        "#Calculating R2 \r\n",
        "R2=r2_score(y_test, y_pred)\r\n",
        "print(f'Test R2 is {R2}')\r\n",
        "#Calculating R2 \r\n",
        "R2_train=r2_score(y_train, y_pred_train)\r\n",
        "print(f'Train R2 is {R2_train}')"
      ],
      "execution_count": null,
      "outputs": [
        {
          "output_type": "stream",
          "text": [
            "Test R2 is 0.17721438532913958\n",
            "Train R2 is 0.3361957198873313\n"
          ],
          "name": "stdout"
        }
      ]
    },
    {
      "cell_type": "code",
      "metadata": {
        "colab": {
          "base_uri": "https://localhost:8080/"
        },
        "id": "JeDcaHv6UkKo",
        "outputId": "797ea64a-8ce6-4292-985b-cd6bccb29dad"
      },
      "source": [
        "#Calculating MSE \r\n",
        "MSE=mean_squared_error(y_test, y_pred)\r\n",
        "print(f'MSE is {MSE}')\r\n",
        "#Calculating Mean Absolute Error\r\n",
        "MAE=mean_absolute_error(y_test,y_pred)\r\n",
        "print(f'MAE is {MAE}')"
      ],
      "execution_count": null,
      "outputs": [
        {
          "output_type": "stream",
          "text": [
            "MSE is 9020.826293933875\n",
            "MAE is 24.814883716446882\n"
          ],
          "name": "stdout"
        }
      ]
    },
    {
      "cell_type": "markdown",
      "metadata": {
        "id": "rELwNqynSMeq"
      },
      "source": [
        "### Our model is not predicting very good let's try with doing some preprocessing with data"
      ]
    },
    {
      "cell_type": "markdown",
      "metadata": {
        "id": "v-YQhBw3VABt"
      },
      "source": [
        "## **Let's Apply Lasso**"
      ]
    },
    {
      "cell_type": "code",
      "metadata": {
        "id": "FoIXmjl2S0VE"
      },
      "source": [
        "lasso = Lasso(alpha=0.01)\r\n",
        "lasso.fit(X_train, y_train)"
      ],
      "execution_count": null,
      "outputs": []
    },
    {
      "cell_type": "code",
      "metadata": {
        "id": "oHDbFQfaVJ_n"
      },
      "source": [
        "# Predicting the Test set results\r\n",
        "y_pred=lasso.predict(X_test)\r\n",
        "y_pred_train = lasso.predict(X_train)"
      ],
      "execution_count": null,
      "outputs": []
    },
    {
      "cell_type": "code",
      "metadata": {
        "colab": {
          "base_uri": "https://localhost:8080/"
        },
        "id": "RWeiUxdCVYyE",
        "outputId": "87e587cc-e597-4ff0-8cfb-1c3c8cc33ae0"
      },
      "source": [
        "#Calculating R2 \r\n",
        "R2=r2_score(y_test, y_pred)\r\n",
        "print(f'Test R2 is {R2}')\r\n",
        "#Calculating R2 \r\n",
        "R2_train=r2_score(y_train, y_pred_train)\r\n",
        "print(f'Train R2 is {R2_train}')"
      ],
      "execution_count": null,
      "outputs": [
        {
          "output_type": "stream",
          "text": [
            "Test R2 is 0.18491939766319765\n",
            "Train R2 is 0.3349180236101099\n"
          ],
          "name": "stdout"
        }
      ]
    },
    {
      "cell_type": "code",
      "metadata": {
        "colab": {
          "base_uri": "https://localhost:8080/"
        },
        "id": "O0OMyhRfVbBb",
        "outputId": "b397f262-f638-438e-9491-33abdd626d99"
      },
      "source": [
        "#Calculating MSE \r\n",
        "MSE=mean_squared_error(y_test, y_pred)\r\n",
        "print(f'MSE is {MSE}')\r\n",
        "#Calculating Mean Absolute Error\r\n",
        "MAE=mean_absolute_error(y_test,y_pred)\r\n",
        "print(f'MAE is {MAE}')"
      ],
      "execution_count": null,
      "outputs": [
        {
          "output_type": "stream",
          "text": [
            "MSE is 8936.350366524812\n",
            "MAE is 25.17214302808278\n"
          ],
          "name": "stdout"
        }
      ]
    },
    {
      "cell_type": "markdown",
      "metadata": {
        "id": "qmd4lo7ZV6aV"
      },
      "source": [
        "## **Let's Apply Decision Tree**"
      ]
    },
    {
      "cell_type": "code",
      "metadata": {
        "id": "ufT9Mr6_VwNE"
      },
      "source": [
        "from sklearn.tree import DecisionTreeRegressor\r\n",
        "from sklearn.ensemble import RandomForestRegressor,GradientBoostingRegressor"
      ],
      "execution_count": 32,
      "outputs": []
    },
    {
      "cell_type": "code",
      "metadata": {
        "colab": {
          "base_uri": "https://localhost:8080/"
        },
        "id": "xeqjnvByWP9I",
        "outputId": "e1f038a4-35bb-45f5-c0ec-edb5ee04b06b"
      },
      "source": [
        "tree = DecisionTreeRegressor(max_depth=10,\r\n",
        "                      max_leaf_nodes=11,\r\n",
        "                      min_samples_leaf=9, min_samples_split=12)\r\n",
        "tree.fit(X_train, y_train)"
      ],
      "execution_count": null,
      "outputs": [
        {
          "output_type": "execute_result",
          "data": {
            "text/plain": [
              "DecisionTreeRegressor(ccp_alpha=0.0, criterion='mse', max_depth=10,\n",
              "                      max_features=None, max_leaf_nodes=11,\n",
              "                      min_impurity_decrease=0.0, min_impurity_split=None,\n",
              "                      min_samples_leaf=9, min_samples_split=12,\n",
              "                      min_weight_fraction_leaf=0.0, presort='deprecated',\n",
              "                      random_state=None, splitter='best')"
            ]
          },
          "metadata": {
            "tags": []
          },
          "execution_count": 168
        }
      ]
    },
    {
      "cell_type": "code",
      "metadata": {
        "id": "hdLM_Y8tWWuU"
      },
      "source": [
        "# Predicting the Test set results\r\n",
        "y_pred=tree.predict(X_test)\r\n",
        "y_pred_train = tree.predict(X_train)"
      ],
      "execution_count": null,
      "outputs": []
    },
    {
      "cell_type": "code",
      "metadata": {
        "colab": {
          "base_uri": "https://localhost:8080/"
        },
        "id": "4pMD6KgNWg3G",
        "outputId": "3df4f756-4929-4422-bdf3-b365fbb3aa7f"
      },
      "source": [
        "#Calculating R2 \r\n",
        "R2=r2_score(y_test, y_pred)\r\n",
        "print(f'Test R2 is {R2}')\r\n",
        "#Calculating R2 \r\n",
        "R2_train=r2_score(y_train, y_pred_train)\r\n",
        "print(f'Train R2 is {R2_train}')"
      ],
      "execution_count": null,
      "outputs": [
        {
          "output_type": "stream",
          "text": [
            "Test R2 is 0.46325935817878827\n",
            "Train R2 is 0.5082950123368353\n"
          ],
          "name": "stdout"
        }
      ]
    },
    {
      "cell_type": "markdown",
      "metadata": {
        "id": "21rFiMXHXtz_"
      },
      "source": [
        "# **RandomForestRegressor**"
      ]
    },
    {
      "cell_type": "code",
      "metadata": {
        "id": "6-7oTwhSXNtQ"
      },
      "source": [
        "ensemble=RandomForestRegressor(max_depth=10,\r\n",
        "                      max_leaf_nodes=11,\r\n",
        "                      min_samples_leaf=9, min_samples_split=7)"
      ],
      "execution_count": 33,
      "outputs": []
    },
    {
      "cell_type": "code",
      "metadata": {
        "id": "Hck1VHnRXs6R",
        "colab": {
          "base_uri": "https://localhost:8080/"
        },
        "outputId": "7aaefd79-2ac8-46e3-ec9d-9a1130f2a96f"
      },
      "source": [
        "ensemble.fit(X_train, y_train)"
      ],
      "execution_count": 34,
      "outputs": [
        {
          "output_type": "execute_result",
          "data": {
            "text/plain": [
              "RandomForestRegressor(bootstrap=True, ccp_alpha=0.0, criterion='mse',\n",
              "                      max_depth=10, max_features='auto', max_leaf_nodes=11,\n",
              "                      max_samples=None, min_impurity_decrease=0.0,\n",
              "                      min_impurity_split=None, min_samples_leaf=9,\n",
              "                      min_samples_split=7, min_weight_fraction_leaf=0.0,\n",
              "                      n_estimators=100, n_jobs=None, oob_score=False,\n",
              "                      random_state=None, verbose=0, warm_start=False)"
            ]
          },
          "metadata": {
            "tags": []
          },
          "execution_count": 34
        }
      ]
    },
    {
      "cell_type": "code",
      "metadata": {
        "id": "58vY4Gq9YCTM"
      },
      "source": [
        "# Predicting the Test set results\r\n",
        "y_pred=ensemble.predict(X_test)\r\n",
        "y_pred_train = ensemble.predict(X_train)"
      ],
      "execution_count": 35,
      "outputs": []
    },
    {
      "cell_type": "code",
      "metadata": {
        "id": "v7LYtcmwYJ9m",
        "colab": {
          "base_uri": "https://localhost:8080/"
        },
        "outputId": "7f3bedb9-ddea-4a9d-a70d-065d7a5cc0dc"
      },
      "source": [
        "#Calculating R2 \r\n",
        "R2=r2_score(y_test, y_pred)\r\n",
        "print(f'Test R2 is {R2}')\r\n",
        "#Calculating R2 \r\n",
        "R2_train=r2_score(y_train, y_pred_train)\r\n",
        "print(f'Train R2 is {R2_train}')"
      ],
      "execution_count": 38,
      "outputs": [
        {
          "output_type": "stream",
          "text": [
            "Test R2 is 0.4658393890730935\n",
            "Train R2 is 0.5682577914555496\n"
          ],
          "name": "stdout"
        }
      ]
    },
    {
      "cell_type": "code",
      "metadata": {
        "colab": {
          "base_uri": "https://localhost:8080/"
        },
        "id": "0vmd-V-Nhww2",
        "outputId": "c483a130-9087-4e60-fbe9-f04cac7095ca"
      },
      "source": [
        "#Calculating MSE \r\n",
        "MSE=mean_squared_error(y_test, y_pred)\r\n",
        "print(f'MSE is {MSE}')\r\n",
        "#Calculating Mean Absolute Error\r\n",
        "MAE=mean_absolute_error(y_test,y_pred)\r\n",
        "print(f'MAE is {MAE}')"
      ],
      "execution_count": 39,
      "outputs": [
        {
          "output_type": "stream",
          "text": [
            "MSE is 5856.410221951675\n",
            "MAE is 20.972052016546623\n"
          ],
          "name": "stdout"
        }
      ]
    },
    {
      "cell_type": "markdown",
      "metadata": {
        "id": "7BY2CjClN41w"
      },
      "source": [
        "# **Let's Apply PCA**"
      ]
    },
    {
      "cell_type": "code",
      "metadata": {
        "id": "v7rdPq0TZ6zd"
      },
      "source": [
        "from sklearn.decomposition import PCA\r\n",
        "pca = PCA(n_components=10)\r\n",
        "principalComponents = pca.fit_transform(X_train)\r\n",
        "X_train = pd.DataFrame(data = principalComponents, columns = ['PCA1', 'PCA2', 'PCA3','PCA4','PCA5','PCA6', 'PCA7', 'PCA8','PCA9','PCA10'])"
      ],
      "execution_count": 41,
      "outputs": []
    },
    {
      "cell_type": "code",
      "metadata": {
        "id": "6ikbrBaQPfsv"
      },
      "source": [
        "from sklearn.decomposition import PCA\r\n",
        "pca = PCA(n_components=10)\r\n",
        "principalComponents = pca.fit_transform(X_test)\r\n",
        "X_test = pd.DataFrame(data = principalComponents, columns = ['PCA1', 'PCA2', 'PCA3','PCA4','PCA5','PCA6', 'PCA7', 'PCA8','PCA9','PCA10'])"
      ],
      "execution_count": 43,
      "outputs": []
    },
    {
      "cell_type": "code",
      "metadata": {
        "colab": {
          "base_uri": "https://localhost:8080/"
        },
        "id": "XECppjFGP2q9",
        "outputId": "349b3854-a76b-4279-d5b7-8c211ee40f80"
      },
      "source": [
        "X_train.shape,X_test.shape,y_train.shape,y_test.shape"
      ],
      "execution_count": 44,
      "outputs": [
        {
          "output_type": "execute_result",
          "data": {
            "text/plain": [
              "((602813, 10), (1000, 10), (602813,), (1000,))"
            ]
          },
          "metadata": {
            "tags": []
          },
          "execution_count": 44
        }
      ]
    },
    {
      "cell_type": "code",
      "metadata": {
        "id": "uvoxLfDTP9iC"
      },
      "source": [
        "from sklearn.linear_model import LinearRegression,Lasso,Ridge\r\n",
        "from sklearn.metrics import r2_score,mean_absolute_error,mean_squared_error"
      ],
      "execution_count": 45,
      "outputs": []
    },
    {
      "cell_type": "code",
      "metadata": {
        "colab": {
          "base_uri": "https://localhost:8080/"
        },
        "id": "N6KbjQRzQJoo",
        "outputId": "f207dc48-8ab9-487d-8719-2f56fa87a667"
      },
      "source": [
        "regressor = LinearRegression()\r\n",
        "regressor.fit(X_train, y_train)"
      ],
      "execution_count": 46,
      "outputs": [
        {
          "output_type": "execute_result",
          "data": {
            "text/plain": [
              "LinearRegression(copy_X=True, fit_intercept=True, n_jobs=None, normalize=False)"
            ]
          },
          "metadata": {
            "tags": []
          },
          "execution_count": 46
        }
      ]
    },
    {
      "cell_type": "code",
      "metadata": {
        "id": "gJvP80gIQKRj"
      },
      "source": [
        "# Predicting the Test set results\r\n",
        "y_pred=regressor.predict(X_test)\r\n",
        "y_pred_train = regressor.predict(X_train)"
      ],
      "execution_count": 47,
      "outputs": []
    },
    {
      "cell_type": "code",
      "metadata": {
        "colab": {
          "base_uri": "https://localhost:8080/"
        },
        "id": "pnPc6mRaQM9D",
        "outputId": "c15a1ea2-670c-4168-ae5b-90e6c8ee497e"
      },
      "source": [
        "#Calculating R2 \r\n",
        "R2=r2_score(y_test, y_pred)\r\n",
        "print(f'Test R2 is {R2}')\r\n",
        "#Calculating R2 \r\n",
        "R2_train=r2_score(y_train, y_pred_train)\r\n",
        "print(f'Train R2 is {R2_train}')"
      ],
      "execution_count": 48,
      "outputs": [
        {
          "output_type": "stream",
          "text": [
            "Test R2 is -1.3675400245619702\n",
            "Train R2 is 0.31804716911303543\n"
          ],
          "name": "stdout"
        }
      ]
    },
    {
      "cell_type": "code",
      "metadata": {
        "id": "C-CEcNjDQPmX"
      },
      "source": [
        "from sklearn.tree import DecisionTreeRegressor\r\n",
        "from sklearn.ensemble import RandomForestRegressor,GradientBoostingRegressor"
      ],
      "execution_count": null,
      "outputs": []
    },
    {
      "cell_type": "code",
      "metadata": {
        "colab": {
          "base_uri": "https://localhost:8080/"
        },
        "id": "UYRDvqseRujz",
        "outputId": "a1d924cf-c1a5-4824-d406-5c0d1985b015"
      },
      "source": [
        "tree = DecisionTreeRegressor(max_depth=10,\r\n",
        "                      max_leaf_nodes=11,\r\n",
        "                      min_samples_leaf=9, min_samples_split=12)\r\n",
        "tree.fit(X_train, y_train)"
      ],
      "execution_count": null,
      "outputs": [
        {
          "output_type": "execute_result",
          "data": {
            "text/plain": [
              "DecisionTreeRegressor(ccp_alpha=0.0, criterion='mse', max_depth=10,\n",
              "                      max_features=None, max_leaf_nodes=11,\n",
              "                      min_impurity_decrease=0.0, min_impurity_split=None,\n",
              "                      min_samples_leaf=9, min_samples_split=12,\n",
              "                      min_weight_fraction_leaf=0.0, presort='deprecated',\n",
              "                      random_state=None, splitter='best')"
            ]
          },
          "metadata": {
            "tags": []
          },
          "execution_count": 196
        }
      ]
    },
    {
      "cell_type": "code",
      "metadata": {
        "id": "x5L5cySCRw9S"
      },
      "source": [
        "# Predicting the Test set results\r\n",
        "y_pred=tree.predict(X_test)\r\n",
        "y_pred_train = tree.predict(X_train)"
      ],
      "execution_count": null,
      "outputs": []
    },
    {
      "cell_type": "code",
      "metadata": {
        "colab": {
          "base_uri": "https://localhost:8080/"
        },
        "id": "uN--N11yRzwR",
        "outputId": "dab4083b-8c44-4ab4-a714-1c53975bcb78"
      },
      "source": [
        "#Calculating R2 \r\n",
        "R2=r2_score(y_test, y_pred)\r\n",
        "print(f'Test R2 is {R2}')\r\n",
        "#Calculating R2 \r\n",
        "R2_train=r2_score(y_train, y_pred_train)\r\n",
        "print(f'Train R2 is {R2_train}')"
      ],
      "execution_count": null,
      "outputs": [
        {
          "output_type": "stream",
          "text": [
            "Test R2 is 0.004206630385624299\n",
            "Train R2 is 0.11683644009127059\n"
          ],
          "name": "stdout"
        }
      ]
    },
    {
      "cell_type": "code",
      "metadata": {
        "id": "FoBWqW6lR1q-"
      },
      "source": [
        ""
      ],
      "execution_count": null,
      "outputs": []
    }
  ]
}